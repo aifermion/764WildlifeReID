{
 "cells": [
  {
   "cell_type": "code",
   "execution_count": 48,
   "metadata": {},
   "outputs": [],
   "source": [
    "import os\n",
    "import shutil\n",
    "import pathlib\n",
    "import regex as re\n",
    "import pandas as pd"
   ]
  },
  {
   "cell_type": "code",
   "execution_count": 2,
   "metadata": {},
   "outputs": [],
   "source": [
    "rawdata_dir = pathlib.Path('../data/raw/DOC_AucklandIsland/Auckland Island summer trial 2019')"
   ]
  },
  {
   "cell_type": "code",
   "execution_count": 3,
   "metadata": {},
   "outputs": [],
   "source": [
    "cat_type = ['cat', 'collared']\n",
    "interaction_type = ['eat', 'ignore', 'interact']"
   ]
  },
  {
   "cell_type": "code",
   "execution_count": 4,
   "metadata": {},
   "outputs": [
    {
     "name": "stderr",
     "output_type": "stream",
     "text": [
      "/var/folders/r7/hlvr4tcn43d2pztz8gqr8_sc0000gn/T/ipykernel_5454/3950471939.py:1: FutureWarning: The default dtype for empty Series will be 'object' instead of 'float64' in a future version. Specify a dtype explicitly to silence this warning.\n",
      "  cat_prefix = pd.Series()\n",
      "/var/folders/r7/hlvr4tcn43d2pztz8gqr8_sc0000gn/T/ipykernel_5454/3950471939.py:2: FutureWarning: The default dtype for empty Series will be 'object' instead of 'float64' in a future version. Specify a dtype explicitly to silence this warning.\n",
      "  cat_img_names = pd.Series()\n"
     ]
    }
   ],
   "source": [
    "cat_prefix = pd.Series()\n",
    "cat_img_names = pd.Series()"
   ]
  },
  {
   "cell_type": "code",
   "execution_count": 5,
   "metadata": {},
   "outputs": [
    {
     "name": "stderr",
     "output_type": "stream",
     "text": [
      "/var/folders/r7/hlvr4tcn43d2pztz8gqr8_sc0000gn/T/ipykernel_5454/2886350447.py:7: FutureWarning: The series.append method is deprecated and will be removed from pandas in a future version. Use pandas.concat instead.\n",
      "  cat_img_names = cat_img_names.append(pd.Series(filenames))\n",
      "/var/folders/r7/hlvr4tcn43d2pztz8gqr8_sc0000gn/T/ipykernel_5454/2886350447.py:8: FutureWarning: The series.append method is deprecated and will be removed from pandas in a future version. Use pandas.concat instead.\n",
      "  cat_prefix = cat_prefix.append(pd.Series([indiv_prefix] * len(filenames)))\n",
      "/var/folders/r7/hlvr4tcn43d2pztz8gqr8_sc0000gn/T/ipykernel_5454/2886350447.py:7: FutureWarning: The series.append method is deprecated and will be removed from pandas in a future version. Use pandas.concat instead.\n",
      "  cat_img_names = cat_img_names.append(pd.Series(filenames))\n",
      "/var/folders/r7/hlvr4tcn43d2pztz8gqr8_sc0000gn/T/ipykernel_5454/2886350447.py:8: FutureWarning: The series.append method is deprecated and will be removed from pandas in a future version. Use pandas.concat instead.\n",
      "  cat_prefix = cat_prefix.append(pd.Series([indiv_prefix] * len(filenames)))\n",
      "/var/folders/r7/hlvr4tcn43d2pztz8gqr8_sc0000gn/T/ipykernel_5454/2886350447.py:7: FutureWarning: The series.append method is deprecated and will be removed from pandas in a future version. Use pandas.concat instead.\n",
      "  cat_img_names = cat_img_names.append(pd.Series(filenames))\n",
      "/var/folders/r7/hlvr4tcn43d2pztz8gqr8_sc0000gn/T/ipykernel_5454/2886350447.py:8: FutureWarning: The series.append method is deprecated and will be removed from pandas in a future version. Use pandas.concat instead.\n",
      "  cat_prefix = cat_prefix.append(pd.Series([indiv_prefix] * len(filenames)))\n",
      "/var/folders/r7/hlvr4tcn43d2pztz8gqr8_sc0000gn/T/ipykernel_5454/2886350447.py:7: FutureWarning: The series.append method is deprecated and will be removed from pandas in a future version. Use pandas.concat instead.\n",
      "  cat_img_names = cat_img_names.append(pd.Series(filenames))\n",
      "/var/folders/r7/hlvr4tcn43d2pztz8gqr8_sc0000gn/T/ipykernel_5454/2886350447.py:8: FutureWarning: The series.append method is deprecated and will be removed from pandas in a future version. Use pandas.concat instead.\n",
      "  cat_prefix = cat_prefix.append(pd.Series([indiv_prefix] * len(filenames)))\n",
      "/var/folders/r7/hlvr4tcn43d2pztz8gqr8_sc0000gn/T/ipykernel_5454/2886350447.py:7: FutureWarning: The series.append method is deprecated and will be removed from pandas in a future version. Use pandas.concat instead.\n",
      "  cat_img_names = cat_img_names.append(pd.Series(filenames))\n",
      "/var/folders/r7/hlvr4tcn43d2pztz8gqr8_sc0000gn/T/ipykernel_5454/2886350447.py:8: FutureWarning: The series.append method is deprecated and will be removed from pandas in a future version. Use pandas.concat instead.\n",
      "  cat_prefix = cat_prefix.append(pd.Series([indiv_prefix] * len(filenames)))\n",
      "/var/folders/r7/hlvr4tcn43d2pztz8gqr8_sc0000gn/T/ipykernel_5454/2886350447.py:7: FutureWarning: The series.append method is deprecated and will be removed from pandas in a future version. Use pandas.concat instead.\n",
      "  cat_img_names = cat_img_names.append(pd.Series(filenames))\n",
      "/var/folders/r7/hlvr4tcn43d2pztz8gqr8_sc0000gn/T/ipykernel_5454/2886350447.py:8: FutureWarning: The series.append method is deprecated and will be removed from pandas in a future version. Use pandas.concat instead.\n",
      "  cat_prefix = cat_prefix.append(pd.Series([indiv_prefix] * len(filenames)))\n"
     ]
    }
   ],
   "source": [
    "for catdir in list(rawdata_dir.iterdir()):\n",
    "    if catdir.is_dir():\n",
    "        for cat_interaction in list(catdir.iterdir()):\n",
    "            if cat_interaction.is_dir():\n",
    "                indiv_prefix = f\"{catdir.name}-{cat_interaction.name}\"\n",
    "                filenames = [f.name for f in cat_interaction.iterdir() if f.is_file()]\n",
    "                cat_img_names = cat_img_names.append(pd.Series(filenames))\n",
    "                cat_prefix = cat_prefix.append(pd.Series([indiv_prefix] * len(filenames)))"
   ]
  },
  {
   "cell_type": "code",
   "execution_count": 14,
   "metadata": {},
   "outputs": [
    {
     "data": {
      "text/plain": [
       "True"
      ]
     },
     "execution_count": 14,
     "metadata": {},
     "output_type": "execute_result"
    }
   ],
   "source": [
    "cat_img_timestamps = cat_img_names.str.extract(r'(\\d{14})')"
   ]
  },
  {
   "cell_type": "code",
   "execution_count": 19,
   "metadata": {},
   "outputs": [],
   "source": [
    "cat_img_timestamps_1d = cat_img_timestamps.values.ravel()"
   ]
  },
  {
   "cell_type": "code",
   "execution_count": 40,
   "metadata": {},
   "outputs": [],
   "source": [
    "cat_info_df = pd.DataFrame({'prefix': cat_prefix, 'img_name': cat_img_names, 'timestamp': cat_img_timestamps_1d})"
   ]
  },
  {
   "cell_type": "code",
   "execution_count": 41,
   "metadata": {},
   "outputs": [],
   "source": [
    "cat_info_df.dropna(inplace=True)\n",
    "cat_info_df.sort_values(by=['prefix', 'timestamp'], inplace=True)\n",
    "cat_info_df.reset_index(drop=True, inplace=True)"
   ]
  },
  {
   "cell_type": "code",
   "execution_count": 42,
   "metadata": {},
   "outputs": [
    {
     "data": {
      "text/html": [
       "<div>\n",
       "<style scoped>\n",
       "    .dataframe tbody tr th:only-of-type {\n",
       "        vertical-align: middle;\n",
       "    }\n",
       "\n",
       "    .dataframe tbody tr th {\n",
       "        vertical-align: top;\n",
       "    }\n",
       "\n",
       "    .dataframe thead th {\n",
       "        text-align: right;\n",
       "    }\n",
       "</style>\n",
       "<table border=\"1\" class=\"dataframe\">\n",
       "  <thead>\n",
       "    <tr style=\"text-align: right;\">\n",
       "      <th></th>\n",
       "      <th>prefix</th>\n",
       "      <th>img_name</th>\n",
       "      <th>timestamp</th>\n",
       "    </tr>\n",
       "  </thead>\n",
       "  <tbody>\n",
       "    <tr>\n",
       "      <th>20</th>\n",
       "      <td>cat-eat</td>\n",
       "      <td>20190801_4v26_AucklandIsland_A1_2_3_SD98_20190...</td>\n",
       "      <td>20190210155439</td>\n",
       "    </tr>\n",
       "    <tr>\n",
       "      <th>21</th>\n",
       "      <td>cat-eat</td>\n",
       "      <td>20190801_4v26_AucklandIsland_A1_2_3_SD98_20190...</td>\n",
       "      <td>20190210155439</td>\n",
       "    </tr>\n",
       "    <tr>\n",
       "      <th>26</th>\n",
       "      <td>cat-eat</td>\n",
       "      <td>20190801_4v26_AucklandIsland_A1_2_3_SD98_20190...</td>\n",
       "      <td>20190210155515</td>\n",
       "    </tr>\n",
       "    <tr>\n",
       "      <th>27</th>\n",
       "      <td>cat-eat</td>\n",
       "      <td>20190801_4v26_AucklandIsland_A1_2_3_SD98_20190...</td>\n",
       "      <td>20190210155515</td>\n",
       "    </tr>\n",
       "    <tr>\n",
       "      <th>40</th>\n",
       "      <td>cat-eat</td>\n",
       "      <td>20190801_4v26_AucklandIsland_A1_2_3_SD98_20190...</td>\n",
       "      <td>20190210155648</td>\n",
       "    </tr>\n",
       "    <tr>\n",
       "      <th>...</th>\n",
       "      <td>...</td>\n",
       "      <td>...</td>\n",
       "      <td>...</td>\n",
       "    </tr>\n",
       "    <tr>\n",
       "      <th>4162</th>\n",
       "      <td>collared-interact</td>\n",
       "      <td>20190801_kW8J_AucklandIsland_A2_3_41_SD15_2019...</td>\n",
       "      <td>20190220101232</td>\n",
       "    </tr>\n",
       "    <tr>\n",
       "      <th>4163</th>\n",
       "      <td>collared-interact</td>\n",
       "      <td>20190801_kW8J_AucklandIsland_A2_3_41_SD15_2019...</td>\n",
       "      <td>20190220101232</td>\n",
       "    </tr>\n",
       "    <tr>\n",
       "      <th>4165</th>\n",
       "      <td>collared-interact</td>\n",
       "      <td>20190801_kW8J_AucklandIsland_A2_3_41_SD15_2019...</td>\n",
       "      <td>20190220101236</td>\n",
       "    </tr>\n",
       "    <tr>\n",
       "      <th>4166</th>\n",
       "      <td>collared-interact</td>\n",
       "      <td>20190801_kW8J_AucklandIsland_A2_3_41_SD15_2019...</td>\n",
       "      <td>20190220101236</td>\n",
       "    </tr>\n",
       "    <tr>\n",
       "      <th>4206</th>\n",
       "      <td>collared-interact</td>\n",
       "      <td>20190801_kW8J_AucklandIsland_A2_3_41_SD15_2019...</td>\n",
       "      <td>20190225004010</td>\n",
       "    </tr>\n",
       "  </tbody>\n",
       "</table>\n",
       "<p>284 rows × 3 columns</p>\n",
       "</div>"
      ],
      "text/plain": [
       "                 prefix                                           img_name  \\\n",
       "20              cat-eat  20190801_4v26_AucklandIsland_A1_2_3_SD98_20190...   \n",
       "21              cat-eat  20190801_4v26_AucklandIsland_A1_2_3_SD98_20190...   \n",
       "26              cat-eat  20190801_4v26_AucklandIsland_A1_2_3_SD98_20190...   \n",
       "27              cat-eat  20190801_4v26_AucklandIsland_A1_2_3_SD98_20190...   \n",
       "40              cat-eat  20190801_4v26_AucklandIsland_A1_2_3_SD98_20190...   \n",
       "...                 ...                                                ...   \n",
       "4162  collared-interact  20190801_kW8J_AucklandIsland_A2_3_41_SD15_2019...   \n",
       "4163  collared-interact  20190801_kW8J_AucklandIsland_A2_3_41_SD15_2019...   \n",
       "4165  collared-interact  20190801_kW8J_AucklandIsland_A2_3_41_SD15_2019...   \n",
       "4166  collared-interact  20190801_kW8J_AucklandIsland_A2_3_41_SD15_2019...   \n",
       "4206  collared-interact  20190801_kW8J_AucklandIsland_A2_3_41_SD15_2019...   \n",
       "\n",
       "           timestamp  \n",
       "20    20190210155439  \n",
       "21    20190210155439  \n",
       "26    20190210155515  \n",
       "27    20190210155515  \n",
       "40    20190210155648  \n",
       "...              ...  \n",
       "4162  20190220101232  \n",
       "4163  20190220101232  \n",
       "4165  20190220101236  \n",
       "4166  20190220101236  \n",
       "4206  20190225004010  \n",
       "\n",
       "[284 rows x 3 columns]"
      ]
     },
     "execution_count": 42,
     "metadata": {},
     "output_type": "execute_result"
    }
   ],
   "source": [
    "duplicated_timestamps = cat_info_df[cat_info_df['timestamp'].duplicated(keep=False)]\n",
    "duplicated_timestamps"
   ]
  },
  {
   "cell_type": "code",
   "execution_count": 44,
   "metadata": {},
   "outputs": [
    {
     "name": "stdout",
     "output_type": "stream",
     "text": [
      "20190130 272\n",
      "20190202 249\n",
      "20190204 46\n",
      "20190206 33\n",
      "20190208 29\n",
      "20190209 18\n",
      "20190210 340\n",
      "20190211 454\n",
      "20190212 99\n",
      "20190213 60\n",
      "20190214 112\n",
      "20190215 223\n",
      "20190216 554\n",
      "20190217 193\n",
      "20190218 394\n",
      "20190219 146\n",
      "20190220 358\n",
      "20190221 21\n",
      "20190222 48\n",
      "20190223 366\n",
      "20190224 93\n",
      "20190225 91\n",
      "20190226 1\n",
      "20190227 7\n",
      "20190301 16\n",
      "20190304 4\n"
     ]
    }
   ],
   "source": [
    "grouped_indices = cat_info_df.groupby(cat_info_df['timestamp'].str[:8]).apply(lambda x: x.index.tolist())\n",
    "for i in grouped_indices.index:\n",
    "    print(i, len(grouped_indices[i]))"
   ]
  },
  {
   "cell_type": "code",
   "execution_count": 45,
   "metadata": {},
   "outputs": [],
   "source": [
    "regrouped_dir_path = pathlib.Path(\"../data/raw\") / \"regrouped\"\n",
    "regrouped_dir_path.mkdir(parents=True, exist_ok=True)"
   ]
  },
  {
   "cell_type": "code",
   "execution_count": 51,
   "metadata": {},
   "outputs": [],
   "source": [
    "for date_id in grouped_indices.index:\n",
    "    date_dir_path = regrouped_dir_path / date_id\n",
    "    date_dir_path.mkdir(parents=True, exist_ok=True)\n",
    "\n",
    "    for idx in grouped_indices[date_id]:\n",
    "        folder_name = cat_info_df.loc[idx, 'prefix'].split('-')[0]\n",
    "        interaction_type = cat_info_df.loc[idx, 'prefix'].split('-')[1]\n",
    "        img_path = rawdata_dir / folder_name/ interaction_type / cat_info_df.loc[idx, 'img_name']\n",
    "        shutil.copy(img_path, date_dir_path)"
   ]
  },
  {
   "cell_type": "markdown",
   "metadata": {},
   "source": [
    "## Labelling"
   ]
  },
  {
   "cell_type": "code",
   "execution_count": 52,
   "metadata": {},
   "outputs": [
    {
     "data": {
      "text/plain": [
       "timestamp\n",
       "20190130    [2757, 2758, 2759, 2760, 2761, 2762, 2763, 276...\n",
       "20190202    [420, 421, 422, 2887, 2888, 2889, 2890, 2891, ...\n",
       "20190204    [423, 424, 425, 426, 427, 428, 429, 430, 431, ...\n",
       "20190206    [469, 470, 471, 472, 473, 474, 475, 476, 477, ...\n",
       "20190208    [502, 503, 504, 505, 506, 507, 508, 509, 510, ...\n",
       "20190209    [531, 532, 533, 534, 535, 536, 537, 538, 539, ...\n",
       "20190210    [0, 1, 2, 3, 4, 5, 6, 7, 8, 9, 10, 11, 12, 13,...\n",
       "20190211    [263, 264, 265, 266, 267, 268, 269, 270, 271, ...\n",
       "20190212    [630, 631, 632, 633, 634, 635, 636, 637, 638, ...\n",
       "20190213    [703, 704, 705, 706, 707, 708, 709, 710, 711, ...\n",
       "20190214    [741, 742, 743, 744, 745, 746, 747, 748, 749, ...\n",
       "20190215    [799, 800, 801, 802, 803, 804, 805, 806, 807, ...\n",
       "20190216    [1000, 1001, 1002, 1003, 1004, 1005, 1006, 100...\n",
       "20190217    [1551, 1552, 1553, 1554, 1555, 1556, 1557, 155...\n",
       "20190218    [1599, 1600, 1601, 1602, 1603, 1604, 1605, 160...\n",
       "20190219    [1630, 1631, 1632, 1633, 1634, 1635, 1636, 163...\n",
       "20190220    [1772, 1773, 1774, 1775, 1776, 1777, 1778, 177...\n",
       "20190221    [1963, 1964, 1965, 1966, 1967, 1968, 1969, 197...\n",
       "20190222    [1984, 1985, 1986, 1987, 1988, 1989, 1990, 199...\n",
       "20190223    [2012, 2013, 2014, 2015, 2016, 2017, 2018, 201...\n",
       "20190224    [2313, 2314, 2315, 2316, 2317, 2318, 2319, 232...\n",
       "20190225    [2406, 2407, 2408, 2409, 2410, 3167, 3168, 316...\n",
       "20190226                                               [2411]\n",
       "20190227           [3945, 3946, 3947, 3948, 3949, 3950, 3951]\n",
       "20190301    [2412, 2413, 2414, 2415, 2416, 2417, 2418, 241...\n",
       "20190304                             [3952, 3953, 3954, 3955]\n",
       "dtype: object"
      ]
     },
     "execution_count": 52,
     "metadata": {},
     "output_type": "execute_result"
    }
   ],
   "source": [
    "cat_info_fk = cat_info_df.copy()\n",
    "cat_info_fk['regrp_folder'] = pd.Series()"
   ]
  },
  {
   "cell_type": "code",
   "execution_count": 83,
   "metadata": {},
   "outputs": [
    {
     "name": "stderr",
     "output_type": "stream",
     "text": [
      "/var/folders/r7/hlvr4tcn43d2pztz8gqr8_sc0000gn/T/ipykernel_5454/4101975384.py:1: FutureWarning: The default dtype for empty Series will be 'object' instead of 'float64' in a future version. Specify a dtype explicitly to silence this warning.\n",
      "  indices_regrouped = pd.Series()\n",
      "/var/folders/r7/hlvr4tcn43d2pztz8gqr8_sc0000gn/T/ipykernel_5454/4101975384.py:2: FutureWarning: The default dtype for empty Series will be 'object' instead of 'float64' in a future version. Specify a dtype explicitly to silence this warning.\n",
      "  folder_name = pd.Series()\n"
     ]
    }
   ],
   "source": [
    "indices_regrouped = pd.Series()\n",
    "folder_name = pd.Series()"
   ]
  },
  {
   "cell_type": "code",
   "execution_count": 84,
   "metadata": {},
   "outputs": [],
   "source": [
    "for idx in grouped_indices.index:\n",
    "    indices_regrouped = pd.concat([indices_regrouped, pd.Series(grouped_indices[idx])])\n",
    "    folder_name = pd.concat([folder_name, pd.Series([idx]*len(grouped_indices[idx]))])\n",
    "        "
   ]
  },
  {
   "cell_type": "code",
   "execution_count": 85,
   "metadata": {},
   "outputs": [],
   "source": [
    "folder_group = pd.DataFrame({'index': indices_regrouped, 'folder_name': folder_name}).set_index('index')"
   ]
  },
  {
   "cell_type": "code",
   "execution_count": 99,
   "metadata": {},
   "outputs": [],
   "source": [
    "expanded_cat_info = pd.merge(cat_info_df, folder_group, left_index=True, right_index=True).sort_values(by=['folder_name', 'timestamp'])"
   ]
  },
  {
   "cell_type": "code",
   "execution_count": 110,
   "metadata": {},
   "outputs": [],
   "source": [
    "labelled_df = pd.read_csv('../data/labels/init_labels.csv', na_values='void').dropna()"
   ]
  },
  {
   "cell_type": "code",
   "execution_count": 111,
   "metadata": {},
   "outputs": [
    {
     "data": {
      "text/plain": [
       "linja         1412\n",
       "matt          1395\n",
       "bethilda       883\n",
       "nuclei         345\n",
       "taki            96\n",
       "neapolitan      42\n",
       "Name: label, dtype: int64"
      ]
     },
     "execution_count": 111,
     "metadata": {},
     "output_type": "execute_result"
    }
   ],
   "source": [
    "labelled_df['label'].value_counts()"
   ]
  },
  {
   "cell_type": "code",
   "execution_count": 112,
   "metadata": {},
   "outputs": [
    {
     "name": "stdout",
     "output_type": "stream",
     "text": [
      "<class 'pandas.core.frame.DataFrame'>\n",
      "Int64Index: 4173 entries, 0 to 4226\n",
      "Data columns (total 6 columns):\n",
      " #   Column       Non-Null Count  Dtype  \n",
      "---  ------       --------------  -----  \n",
      " 0   Unnamed: 0   4173 non-null   int64  \n",
      " 1   prefix       4173 non-null   object \n",
      " 2   img_name     4173 non-null   object \n",
      " 3   timestamp    4173 non-null   float64\n",
      " 4   folder_name  4173 non-null   int64  \n",
      " 5   label        4173 non-null   object \n",
      "dtypes: float64(1), int64(2), object(3)\n",
      "memory usage: 228.2+ KB\n"
     ]
    }
   ],
   "source": [
    "labelled_df.info()"
   ]
  },
  {
   "cell_type": "code",
   "execution_count": null,
   "metadata": {},
   "outputs": [],
   "source": []
  }
 ],
 "metadata": {
  "kernelspec": {
   "display_name": "base",
   "language": "python",
   "name": "python3"
  },
  "language_info": {
   "codemirror_mode": {
    "name": "ipython",
    "version": 3
   },
   "file_extension": ".py",
   "mimetype": "text/x-python",
   "name": "python",
   "nbconvert_exporter": "python",
   "pygments_lexer": "ipython3",
   "version": "3.11.7"
  }
 },
 "nbformat": 4,
 "nbformat_minor": 2
}
