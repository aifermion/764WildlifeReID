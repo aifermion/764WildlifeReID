{
 "cells": [
  {
   "cell_type": "markdown",
   "metadata": {},
   "source": [
    "blur detection adapted from: https://pyimagesearch.com/2015/09/07/blur-detection-with-opencv/"
   ]
  },
  {
   "cell_type": "code",
   "execution_count": 7,
   "metadata": {},
   "outputs": [],
   "source": [
    "from imutils import paths\n",
    "import argparse\n",
    "import cv2\n",
    "import pathlib"
   ]
  },
  {
   "cell_type": "code",
   "execution_count": 4,
   "metadata": {},
   "outputs": [],
   "source": [
    "def variance_of_laplacian(image):\n",
    "\t# compute the Laplacian of the image and then return the focus\n",
    "\t# measure, which is simply the variance of the Laplacian\n",
    "\treturn cv2.Laplacian(image, cv2.CV_64F).var()"
   ]
  },
  {
   "cell_type": "code",
   "execution_count": 13,
   "metadata": {},
   "outputs": [],
   "source": [
    "cropped_dir = pathlib.Path('../data/processed/cropped')\n",
    "blur_threshold = 100"
   ]
  },
  {
   "cell_type": "code",
   "execution_count": 14,
   "metadata": {},
   "outputs": [],
   "source": [
    "blurred_images = []"
   ]
  },
  {
   "cell_type": "code",
   "execution_count": 22,
   "metadata": {},
   "outputs": [],
   "source": [
    "def check_blurred_images(image_path):\n",
    "    image = cv2.imread(image_path)\n",
    "    gray = cv2.cvtColor(image, cv2.COLOR_BGR2GRAY)\n",
    "    cv2.imshow('image', gray)\n",
    "    fm = variance_of_laplacian(gray)\n",
    "    if fm < blur_threshold:\n",
    "        return image_path"
   ]
  },
  {
   "cell_type": "code",
   "execution_count": 20,
   "metadata": {},
   "outputs": [
    {
     "name": "stdout",
     "output_type": "stream",
     "text": [
      "../data/processed/cropped/collared-interact/20190801_Y4bG_AucklandIsland_A2_2_38_SD38_20190219_01300004_20190130062959.JPG\n",
      "../data/processed/cropped/collared-interact/20190801_Y4bG_AucklandIsland_A2_2_38_SD38_20190219_01300059_20190130063506.JPG\n",
      "../data/processed/cropped/collared-interact/20190801_Y4bG_AucklandIsland_A2_2_38_SD38_20190219_01300012_20190130063017.JPG\n",
      "../data/processed/cropped/collared-interact/20190801_Y4bG_AucklandIsland_A2_2_38_SD38_20190219_02020544_20190202043913.JPG\n",
      "../data/processed/cropped/collared-interact/20190801_Y4bG_AucklandIsland_A2_2_38_SD38_20190219_01300091_20190130063649.JPG\n",
      "None\n",
      "None\n",
      "None\n",
      "None\n",
      "None\n",
      "None\n",
      "None\n",
      "None\n",
      "None\n",
      "None\n",
      "../data/processed/cropped/collared-interact/20190801_kW8J_AucklandIsland_A2_3_41_SD15_20190304_02250287_20190225004026.JPG\n",
      "None\n",
      "../data/processed/cropped/collared-interact/20190801_Y4bG_AucklandIsland_A2_2_38_SD38_20190219_01300031_20190130063407.JPG\n",
      "../data/processed/cropped/collared-interact/20190801_kW8J_AucklandIsland_A2_3_41_SD15_20190304_02250255_20190225003916.JPG\n",
      "../data/processed/cropped/collared-interact/20190801_Y4bG_AucklandIsland_A2_2_38_SD38_20190219_01300093_20190130063651.JPG\n",
      "../data/processed/cropped/collared-interact/20190801_kW8J_AucklandIsland_A2_3_41_SD15_20190304_02250228_20190225003736.JPG\n",
      "../data/processed/cropped/collared-interact/20190801_Y4bG_AucklandIsland_A2_2_38_SD38_20190219_01300011_20190130063016.JPG\n",
      "../data/processed/cropped/collared-interact/20190801_kW8J_AucklandIsland_A2_3_41_SD15_20190304_02250307_20190225004232.JPG\n",
      "None\n",
      "../data/processed/cropped/collared-interact/20190801_kW8J_AucklandIsland_A2_3_41_SD15_20190304_02250306_20190225004228.JPG\n",
      "../data/processed/cropped/collared-interact/20190801_kW8J_AucklandIsland_A2_3_41_SD15_20190304_02250230_20190225003740.JPG\n",
      "../data/processed/cropped/collared-interact/20190801_Y4bG_AucklandIsland_A2_2_38_SD38_20190219_01300020_20190130063033.JPG\n",
      "None\n",
      "None\n",
      "None\n",
      "None\n",
      "../data/processed/cropped/collared-interact/20190801_Y4bG_AucklandIsland_A2_2_38_SD38_20190219_01300106_20190130063750.JPG\n",
      "None\n",
      "../data/processed/cropped/collared-interact/20190801_kW8J_AucklandIsland_A2_3_41_SD15_20190304_02250275_20190225004005.JPG\n",
      "None\n",
      "../data/processed/cropped/collared-interact/20190801_Y4bG_AucklandIsland_A2_2_38_SD38_20190219_01300053_20190130063450.JPG\n",
      "None\n",
      "None\n",
      "../data/processed/cropped/collared-interact/20190801_kW8J_AucklandIsland_A2_3_41_SD15_20190304_02250267_20190225003947.JPG\n",
      "None\n",
      "None\n",
      "../data/processed/cropped/collared-interact/20190801_Y4bG_AucklandIsland_A2_2_38_SD38_20190219_01300028_20190130063357.JPG\n",
      "../data/processed/cropped/collared-interact/20190801_kW8J_AucklandIsland_A2_3_41_SD15_20190304_02250269_20190225003955.JPG\n",
      "None\n",
      "None\n",
      "../data/processed/cropped/collared-interact/20190801_Y4bG_AucklandIsland_A2_2_38_SD38_20190219_01300029_20190130063358.JPG\n",
      "../data/processed/cropped/collared-interact/20190801_Y4bG_AucklandIsland_A2_2_38_SD38_20190219_01300016_20190130063026.JPG\n",
      "None\n",
      "None\n",
      "../data/processed/cropped/collared-interact/20190801_Y4bG_AucklandIsland_A2_2_38_SD38_20190219_01300023_20190130063042.JPG\n",
      "None\n",
      "None\n",
      "../data/processed/cropped/collared-interact/20190801_Y4bG_AucklandIsland_A2_2_38_SD38_20190219_02020378_20190202043143.JPG\n",
      "../data/processed/cropped/collared-interact/20190801_kW8J_AucklandIsland_A2_3_41_SD15_20190304_02250297_20190225004044.JPG\n",
      "None\n",
      "None\n",
      "None\n",
      "None\n",
      "../data/processed/cropped/collared-interact/20190801_Y4bG_AucklandIsland_A2_2_38_SD38_20190219_02020512_20190202043646.JPG\n",
      "None\n",
      "None\n",
      "None\n",
      "None\n",
      "None\n",
      "None\n",
      "None\n",
      "None\n",
      "../data/processed/cropped/collared-interact/20190801_Y4bG_AucklandIsland_A2_2_38_SD38_20190219_01300005_20190130063000.JPG\n",
      "None\n",
      "../data/processed/cropped/collared-interact/20190801_Y4bG_AucklandIsland_A2_2_38_SD38_20190219_01300018_20190130063028.JPG\n",
      "None\n",
      "../data/processed/cropped/collared-interact/20190801_Y4bG_AucklandIsland_A2_2_38_SD38_20190219_01300019_20190130063032.JPG\n",
      "../data/processed/cropped/collared-interact/20190801_kW8J_AucklandIsland_A2_3_41_SD15_20190304_02250282_20190225004015.JPG\n",
      "None\n",
      "None\n",
      "None\n",
      "../data/processed/cropped/collared-interact/20190801_kW8J_AucklandIsland_A2_3_41_SD15_20190304_02250295_20190225004042.JPG\n",
      "../data/processed/cropped/collared-interact/20190801_Y4bG_AucklandIsland_A2_2_38_SD38_20190219_02020513_20190202043647.JPG\n",
      "../data/processed/cropped/collared-interact/20190801_Y4bG_AucklandIsland_A2_2_38_SD38_20190219_01300022_20190130063041.JPG\n",
      "../data/processed/cropped/collared-interact/20190801_kW8J_AucklandIsland_A2_3_41_SD15_20190304_02250283_20190225004018.JPG\n",
      "None\n",
      "../data/processed/cropped/collared-interact/20190801_kW8J_AucklandIsland_A2_3_41_SD15_20190304_02250252_20190225003911.JPG\n",
      "None\n",
      "../data/processed/cropped/collared-interact/20190801_kW8J_AucklandIsland_A2_3_41_SD15_20190304_02250279_20190225004010.JPG\n",
      "../data/processed/cropped/collared-interact/20190801_kW8J_AucklandIsland_A2_3_41_SD15_20190304_02250296_20190225004043.JPG\n",
      "../data/processed/cropped/collared-interact/20190801_kW8J_AucklandIsland_A2_3_41_SD15_20190304_02250274_20190225004004.JPG\n",
      "None\n",
      "None\n",
      "../data/processed/cropped/collared-interact/20190801_Y4bG_AucklandIsland_A2_2_38_SD38_20190219_02020352_20190202043040.JPG\n",
      "../data/processed/cropped/collared-interact/20190801_kW8J_AucklandIsland_A2_3_41_SD15_20190304_02250251_20190225003910.JPG\n",
      "../data/processed/cropped/collared-interact/20190801_kW8J_AucklandIsland_A2_3_41_SD15_20190304_02250266_20190225003946.JPG\n",
      "None\n",
      "None\n",
      "../data/processed/cropped/collared-interact/20190801_kW8J_AucklandIsland_A2_3_41_SD15_20190304_02250268_20190225003954.JPG\n",
      "None\n",
      "../data/processed/cropped/collared-interact/20190801_Y4bG_AucklandIsland_A2_2_38_SD38_20190219_01300060_20190130063507.JPG\n",
      "None\n",
      "../data/processed/cropped/collared-interact/20190801_Y4bG_AucklandIsland_A2_2_38_SD38_20190219_02020377_20190202043142.JPG\n",
      "../data/processed/cropped/collared-interact/20190801_kW8J_AucklandIsland_A2_3_41_SD15_20190304_02250281_20190225004014.JPG\n",
      "None\n",
      "../data/processed/cropped/collared-interact/20190801_Y4bG_AucklandIsland_A2_2_38_SD38_20190219_01300017_20190130063027.JPG\n",
      "None\n",
      "None\n",
      "None\n",
      "None\n",
      "None\n",
      "None\n",
      "../data/processed/cropped/collared-interact/20190801_Y4bG_AucklandIsland_A2_2_38_SD38_20190219_01300092_20190130063650.JPG\n",
      "None\n",
      "../data/processed/cropped/collared-interact/20190801_kW8J_AucklandIsland_A2_3_41_SD15_20190304_02250285_20190225004020.JPG\n",
      "None\n",
      "None\n",
      "../data/processed/cropped/collared-interact/20190801_kW8J_AucklandIsland_A2_3_41_SD15_20190304_02250271_20190225004000.JPG\n",
      "../data/processed/cropped/collared-interact/20190801_Y4bG_AucklandIsland_A2_2_38_SD38_20190219_02020374_20190202043136.JPG\n",
      "None\n",
      "../data/processed/cropped/collared-interact/20190801_kW8J_AucklandIsland_A2_3_41_SD15_20190304_02250254_20190225003915.JPG\n",
      "../data/processed/cropped/collared-interact/20190801_kW8J_AucklandIsland_A2_3_41_SD15_20190304_02250232_20190225003744.JPG\n",
      "None\n",
      "None\n",
      "../data/processed/cropped/collared-interact/20190801_Y4bG_AucklandIsland_A2_2_38_SD38_20190219_01300107_20190130063751.JPG\n",
      "../data/processed/cropped/collared-interact/20190801_kW8J_AucklandIsland_A2_3_41_SD15_20190304_02250286_20190225004025.JPG\n",
      "None\n",
      "None\n",
      "None\n",
      "None\n",
      "../data/processed/cropped/collared-interact/20190801_kW8J_AucklandIsland_A2_3_41_SD15_20190304_02250270_20190225003956.JPG\n",
      "../data/processed/cropped/collared-interact/20190801_kW8J_AucklandIsland_A2_3_41_SD15_20190304_02250308_20190225004233.JPG\n",
      "None\n",
      "None\n",
      "None\n",
      "None\n",
      "None\n",
      "None\n",
      "../data/processed/cropped/collared-interact/20190801_kW8J_AucklandIsland_A2_3_41_SD15_20190304_02250256_20190225003919.JPG\n",
      "None\n",
      "../data/processed/cropped/collared-interact/20190801_Y4bG_AucklandIsland_A2_2_38_SD38_20190219_01300024_20190130063042.JPG\n",
      "../data/processed/cropped/collared-interact/20190801_Y4bG_AucklandIsland_A2_2_38_SD38_20190219_01300021_20190130063034.JPG\n",
      "None\n",
      "None\n",
      "None\n",
      "None\n",
      "None\n",
      "None\n",
      "../data/processed/cropped/collared-ignore/20190801_Y4bG_AucklandIsland_A2_2_38_SD38_20190219_01300236_20190130065317.JPG\n",
      "../data/processed/cropped/collared-ignore/20190801_fI6t_AucklandIsland_B2_5_35_SD41_20190220_02170037_20190217235646.JPG\n",
      "None\n",
      "None\n",
      "None\n",
      "../data/processed/cropped/collared-ignore/20190801_fI6t_AucklandIsland_B2_5_35_SD41_20190220_02180142_20190218000100.JPG\n",
      "None\n",
      "../data/processed/cropped/collared-ignore/20190801_RmM3_AucklandIsland_MB2_19_SD128_20190219_02140097_20190214080645.JPG\n"
     ]
    },
    {
     "ename": "error",
     "evalue": "OpenCV(4.10.0) /Users/xperience/GHA-Actions-OpenCV/_work/opencv-python/opencv-python/opencv/modules/imgproc/src/color.cpp:196: error: (-215:Assertion failed) !_src.empty() in function 'cvtColor'\n",
     "output_type": "error",
     "traceback": [
      "\u001b[0;31m---------------------------------------------------------------------------\u001b[0m",
      "\u001b[0;31merror\u001b[0m                                     Traceback (most recent call last)",
      "Cell \u001b[0;32mIn[20], line 5\u001b[0m\n\u001b[1;32m      3\u001b[0m \u001b[38;5;28;01mfor\u001b[39;00m image_path \u001b[38;5;129;01min\u001b[39;00m cat_dir\u001b[38;5;241m.\u001b[39miterdir():\n\u001b[1;32m      4\u001b[0m     \u001b[38;5;28;01mif\u001b[39;00m image_path\u001b[38;5;241m.\u001b[39mis_file():\n\u001b[0;32m----> 5\u001b[0m         \u001b[38;5;28mprint\u001b[39m(\u001b[43mcheck_blurred_images\u001b[49m\u001b[43m(\u001b[49m\u001b[38;5;28;43mstr\u001b[39;49m\u001b[43m(\u001b[49m\u001b[43mimage_path\u001b[49m\u001b[43m)\u001b[49m\u001b[43m)\u001b[49m)\n",
      "Cell \u001b[0;32mIn[16], line 3\u001b[0m, in \u001b[0;36mcheck_blurred_images\u001b[0;34m(image_path)\u001b[0m\n\u001b[1;32m      1\u001b[0m \u001b[38;5;28;01mdef\u001b[39;00m \u001b[38;5;21mcheck_blurred_images\u001b[39m(image_path):\n\u001b[1;32m      2\u001b[0m     image \u001b[38;5;241m=\u001b[39m cv2\u001b[38;5;241m.\u001b[39mimread(image_path)\n\u001b[0;32m----> 3\u001b[0m     gray \u001b[38;5;241m=\u001b[39m \u001b[43mcv2\u001b[49m\u001b[38;5;241;43m.\u001b[39;49m\u001b[43mcvtColor\u001b[49m\u001b[43m(\u001b[49m\u001b[43mimage\u001b[49m\u001b[43m,\u001b[49m\u001b[43m \u001b[49m\u001b[43mcv2\u001b[49m\u001b[38;5;241;43m.\u001b[39;49m\u001b[43mCOLOR_BGR2GRAY\u001b[49m\u001b[43m)\u001b[49m\n\u001b[1;32m      4\u001b[0m     fm \u001b[38;5;241m=\u001b[39m variance_of_laplacian(gray)\n\u001b[1;32m      5\u001b[0m     \u001b[38;5;28;01mif\u001b[39;00m fm \u001b[38;5;241m<\u001b[39m blur_threshold:\n",
      "\u001b[0;31merror\u001b[0m: OpenCV(4.10.0) /Users/xperience/GHA-Actions-OpenCV/_work/opencv-python/opencv-python/opencv/modules/imgproc/src/color.cpp:196: error: (-215:Assertion failed) !_src.empty() in function 'cvtColor'\n"
     ]
    }
   ],
   "source": [
    "for cat_dir in cropped_dir.iterdir():\n",
    "    if cat_dir.is_dir():\n",
    "        for image_path in cat_dir.iterdir():\n",
    "            if image_path.is_file():\n",
    "                print(check_blurred_images(str(image_path)))"
   ]
  },
  {
   "cell_type": "code",
   "execution_count": 23,
   "metadata": {},
   "outputs": [
    {
     "ename": "AttributeError",
     "evalue": "'numpy.ndarray' object has no attribute 'show'",
     "output_type": "error",
     "traceback": [
      "\u001b[0;31m---------------------------------------------------------------------------\u001b[0m",
      "\u001b[0;31mAttributeError\u001b[0m                            Traceback (most recent call last)",
      "Cell \u001b[0;32mIn[23], line 1\u001b[0m\n\u001b[0;32m----> 1\u001b[0m \u001b[43mcheck_blurred_images\u001b[49m\u001b[43m(\u001b[49m\u001b[38;5;124;43m'\u001b[39;49m\u001b[38;5;124;43m../data/processed/cropped/collared-interact/20190801_Y4bG_AucklandIsland_A2_2_38_SD38_20190219_01300004_20190130062959.JPG\u001b[39;49m\u001b[38;5;124;43m'\u001b[39;49m\u001b[43m)\u001b[49m\n",
      "Cell \u001b[0;32mIn[22], line 4\u001b[0m, in \u001b[0;36mcheck_blurred_images\u001b[0;34m(image_path)\u001b[0m\n\u001b[1;32m      2\u001b[0m image \u001b[38;5;241m=\u001b[39m cv2\u001b[38;5;241m.\u001b[39mimread(image_path)\n\u001b[1;32m      3\u001b[0m gray \u001b[38;5;241m=\u001b[39m cv2\u001b[38;5;241m.\u001b[39mcvtColor(image, cv2\u001b[38;5;241m.\u001b[39mCOLOR_BGR2GRAY)\n\u001b[0;32m----> 4\u001b[0m \u001b[43mgray\u001b[49m\u001b[38;5;241;43m.\u001b[39;49m\u001b[43mshow\u001b[49m()\n\u001b[1;32m      5\u001b[0m fm \u001b[38;5;241m=\u001b[39m variance_of_laplacian(gray)\n\u001b[1;32m      6\u001b[0m \u001b[38;5;28;01mif\u001b[39;00m fm \u001b[38;5;241m<\u001b[39m blur_threshold:\n",
      "\u001b[0;31mAttributeError\u001b[0m: 'numpy.ndarray' object has no attribute 'show'"
     ]
    }
   ],
   "source": [
    "check_blurred_images('../data/processed/cropped/collared-interact/20190801_Y4bG_AucklandIsland_A2_2_38_SD38_20190219_01300004_20190130062959.JPG')"
   ]
  },
  {
   "cell_type": "code",
   "execution_count": null,
   "metadata": {},
   "outputs": [],
   "source": []
  }
 ],
 "metadata": {
  "kernelspec": {
   "display_name": "compsci764",
   "language": "python",
   "name": "python3"
  },
  "language_info": {
   "codemirror_mode": {
    "name": "ipython",
    "version": 3
   },
   "file_extension": ".py",
   "mimetype": "text/x-python",
   "name": "python",
   "nbconvert_exporter": "python",
   "pygments_lexer": "ipython3",
   "version": "3.8.20"
  }
 },
 "nbformat": 4,
 "nbformat_minor": 2
}
