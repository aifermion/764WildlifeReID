{
 "cells": [
  {
   "cell_type": "markdown",
   "metadata": {},
   "source": [
    "blur detection adapted from: https://pyimagesearch.com/2015/09/07/blur-detection-with-opencv/"
   ]
  },
  {
   "cell_type": "code",
   "execution_count": 40,
   "metadata": {},
   "outputs": [],
   "source": [
    "from imutils import paths\n",
    "import argparse\n",
    "import cv2\n",
    "import pathlib\n",
    "import matplotlib.pyplot as plt\n",
    "from PIL import Image"
   ]
  },
  {
   "cell_type": "code",
   "execution_count": 41,
   "metadata": {},
   "outputs": [],
   "source": [
    "def variance_of_laplacian(image):\n",
    "\t# compute the Laplacian of the image and then return the focus\n",
    "\t# measure, which is simply the variance of the Laplacian\n",
    "\treturn cv2.Laplacian(image, cv2.CV_64F).var()"
   ]
  },
  {
   "cell_type": "code",
   "execution_count": 42,
   "metadata": {},
   "outputs": [],
   "source": [
    "cropped_dir = pathlib.Path('../data/processed/cropped')\n",
    "blur_threshold = 100"
   ]
  },
  {
   "cell_type": "code",
   "execution_count": 43,
   "metadata": {},
   "outputs": [],
   "source": [
    "blurred_images = []"
   ]
  },
  {
   "cell_type": "code",
   "execution_count": 44,
   "metadata": {},
   "outputs": [],
   "source": [
    "def check_image_pil(image_path):\n",
    "    try:\n",
    "        with Image.open(image_path) as img:\n",
    "            img.verify()  # Verifies that the file is an image\n",
    "        # print(\"The image is valid.\")\n",
    "        return True\n",
    "    except (IOError, SyntaxError) as e:\n",
    "        # print(f\"Corrupted image detected: {e}\")\n",
    "        return False"
   ]
  },
  {
   "cell_type": "code",
   "execution_count": 45,
   "metadata": {},
   "outputs": [],
   "source": [
    "def check_blurred_images(image_path):\n",
    "    image = cv2.imread(image_path)\n",
    "    gray = cv2.cvtColor(image, cv2.COLOR_BGR2GRAY)\n",
    "    # cv2.imshow('image', gray)\n",
    "    fm = variance_of_laplacian(gray)\n",
    "    if fm < blur_threshold:\n",
    "        return image_path"
   ]
  },
  {
   "cell_type": "code",
   "execution_count": 46,
   "metadata": {},
   "outputs": [],
   "source": [
    "for cat_dir in cropped_dir.iterdir():\n",
    "    if cat_dir.is_dir():\n",
    "        for image_path in cat_dir.iterdir():\n",
    "            if image_path.is_file() and image_path.suffix == '.JPG':\n",
    "                if check_image_pil(image_path) and check_blurred_images(str(image_path)):\n",
    "                    blurred_images.append(image_path)"
   ]
  },
  {
   "cell_type": "code",
   "execution_count": 47,
   "metadata": {},
   "outputs": [
    {
     "data": {
      "text/plain": [
       "382"
      ]
     },
     "execution_count": 47,
     "metadata": {},
     "output_type": "execute_result"
    }
   ],
   "source": [
    "len(blurred_images)"
   ]
  },
  {
   "cell_type": "code",
   "execution_count": 48,
   "metadata": {},
   "outputs": [],
   "source": [
    "def show_image(image_path):\n",
    "    image = cv2.imread(str(image_path))\n",
    "    plt.imshow(cv2.cvtColor(image, cv2.COLOR_BGR2RGB))\n",
    "    blur = variance_of_laplacian(cv2.cvtColor(image, cv2.COLOR_BGR2GRAY))\n",
    "    plt.text(10, 30, f'Blur: {blur}', color='red')\n",
    "    plt.axis('off')\n",
    "    plt.show()"
   ]
  },
  {
   "cell_type": "markdown",
   "metadata": {},
   "source": [
    "## Copy Blurred Images"
   ]
  },
  {
   "cell_type": "code",
   "execution_count": 49,
   "metadata": {},
   "outputs": [],
   "source": [
    "# import shutil\n",
    "\n",
    "# destination_dir = pathlib.Path('/Users/fmb/GitHub/764WildlifeReID/data/processed/blur_augmentations/input')\n",
    "\n",
    "# # Create the destination directory if it doesn't exist\n",
    "# destination_dir.mkdir(parents=True, exist_ok=True)\n",
    "\n",
    "# for image_path in blurred_images:\n",
    "#     shutil.copy(image_path, destination_dir)"
   ]
  },
  {
   "cell_type": "markdown",
   "metadata": {},
   "source": [
    "## Refactor Datasets"
   ]
  },
  {
   "cell_type": "code",
   "execution_count": 188,
   "metadata": {},
   "outputs": [],
   "source": [
    "import pandas as pd\n",
    "import pathlib\n",
    "import shutil"
   ]
  },
  {
   "cell_type": "code",
   "execution_count": 62,
   "metadata": {},
   "outputs": [],
   "source": [
    "cropped_labels = pd.read_csv('/Users/fmb/GitHub/764WildlifeReID/data/labels/cropped_auckland_island_feralcats_df.csv')\n",
    "cropped_labels_filenames = cropped_labels['path'].apply(lambda x: x.split('/')[-1])"
   ]
  },
  {
   "cell_type": "code",
   "execution_count": 88,
   "metadata": {},
   "outputs": [
    {
     "data": {
      "text/plain": [
       "0       20190801_Y4bG_AucklandIsland_A2_2_38_SD38_2019...\n",
       "1       20190801_Y4bG_AucklandIsland_A2_2_38_SD38_2019...\n",
       "2       20190801_Y4bG_AucklandIsland_A2_2_38_SD38_2019...\n",
       "3       20190801_Y4bG_AucklandIsland_A2_2_38_SD38_2019...\n",
       "4       20190801_Y4bG_AucklandIsland_A2_2_38_SD38_2019...\n",
       "                              ...                        \n",
       "1900    20190801_nYPb_AucklandIsland_B2_2_1_SD21_20190...\n",
       "1901    20190801_nYPb_AucklandIsland_B2_2_1_SD21_20190...\n",
       "1902    20190801_nYPb_AucklandIsland_B2_2_1_SD21_20190...\n",
       "1903    20190801_nYPb_AucklandIsland_B2_2_1_SD21_20190...\n",
       "1904    20190801_g1ko_AucklandIsland__D2_3_M_SD131_201...\n",
       "Name: path, Length: 1905, dtype: object"
      ]
     },
     "execution_count": 88,
     "metadata": {},
     "output_type": "execute_result"
    }
   ],
   "source": [
    "cropped_labels_filenames"
   ]
  },
  {
   "cell_type": "code",
   "execution_count": 77,
   "metadata": {},
   "outputs": [],
   "source": [
    "input_names = [image_path.name for image_path in blurred_images]"
   ]
  },
  {
   "cell_type": "code",
   "execution_count": 139,
   "metadata": {},
   "outputs": [],
   "source": [
    "processed_blur_path = pathlib.Path('/Users/fmb/GitHub/764WildlifeReID/data/processed/blur_augmentations/output')\n",
    "\n",
    "def fetch_augmentations(aug_dir):\n",
    "    filenames = []\n",
    "    for image_path in aug_dir.iterdir():\n",
    "        if image_path.is_file() and (image_path.suffix == '.JPG' or image_path.suffix == '.png'):\n",
    "            filenames.append(image_path)\n",
    "\n",
    "    return filenames"
   ]
  },
  {
   "cell_type": "code",
   "execution_count": 143,
   "metadata": {},
   "outputs": [],
   "source": [
    "maxim_augs = fetch_augmentations(processed_blur_path / 'maxim_output')\n",
    "hidiff_augs_png = fetch_augmentations(processed_blur_path / 'HIdiff_output')\n",
    "srmnet_augs = fetch_augmentations(processed_blur_path / 'SRMNet_output')"
   ]
  },
  {
   "cell_type": "code",
   "execution_count": 145,
   "metadata": {},
   "outputs": [],
   "source": [
    "# convert hidiff png to JPG\n",
    "for png_path in hidiff_augs_png:\n",
    "    new_jpg_path = pathlib.Path('/Users/fmb/GitHub/764WildlifeReID/data/processed/blur_augmentations/output/HIdiff_JPG_output')\n",
    "    if png_path.suffix.lower() == '.png':\n",
    "        jpg_path = png_path.with_suffix('.JPG')\n",
    "        jpg_name = jpg_path.name\n",
    "        new_jpg_path = new_jpg_path / jpg_name\n",
    "        # print(new_jpg_path)\n",
    "        img = Image.open(png_path)\n",
    "        rgb_img = img.convert('RGB')\n",
    "        rgb_img.save(new_jpg_path)"
   ]
  },
  {
   "cell_type": "code",
   "execution_count": 146,
   "metadata": {},
   "outputs": [],
   "source": [
    "hidiff_augs = fetch_augmentations(processed_blur_path / 'HIdiff_JPG_output')"
   ]
  },
  {
   "cell_type": "code",
   "execution_count": 116,
   "metadata": {},
   "outputs": [],
   "source": [
    "def augmentations_df(augs):\n",
    "    df = pd.DataFrame(augs, columns=['aug_path'])\n",
    "    df['img_name'] = df['aug_path'].apply(lambda x: x.name)\n",
    "    return df"
   ]
  },
  {
   "cell_type": "code",
   "execution_count": 147,
   "metadata": {},
   "outputs": [],
   "source": [
    "maxim_df = augmentations_df(maxim_augs)\n",
    "hidiff_df = augmentations_df(hidiff_augs)\n",
    "srmnet_df = augmentations_df(srmnet_augs)"
   ]
  },
  {
   "cell_type": "code",
   "execution_count": 148,
   "metadata": {},
   "outputs": [],
   "source": [
    "cropped_template = pd.DataFrame()"
   ]
  },
  {
   "cell_type": "code",
   "execution_count": 149,
   "metadata": {},
   "outputs": [],
   "source": [
    "cropped_template = cropped_labels.copy()\n",
    "cropped_template['cropped_img_name'] = cropped_labels_filenames\n",
    "cropped_template['in_blurred_images'] = cropped_template['cropped_img_name'].isin(input_names)"
   ]
  },
  {
   "cell_type": "code",
   "execution_count": 150,
   "metadata": {},
   "outputs": [],
   "source": [
    "def append_to_cropped_template(aug_df, aug_name):\n",
    "    merged_df = cropped_template.merge(aug_df, left_on='cropped_img_name', right_on='img_name', how='left')\n",
    "    merged_df.drop(columns=['img_name'], inplace=True)\n",
    "    merged_df.rename(columns={'aug_path': aug_name}, inplace=True)\n",
    "\n",
    "    return merged_df"
   ]
  },
  {
   "cell_type": "code",
   "execution_count": 151,
   "metadata": {},
   "outputs": [],
   "source": [
    "maxim_merged = append_to_cropped_template(maxim_df, 'maxim')\n",
    "hidiff_merged = append_to_cropped_template(hidiff_df, 'hidiff')\n",
    "srmnet_merged = append_to_cropped_template(srmnet_df, 'srmnet')"
   ]
  },
  {
   "cell_type": "markdown",
   "metadata": {},
   "source": [
    "## Creating Final Datasets"
   ]
  },
  {
   "cell_type": "code",
   "execution_count": 152,
   "metadata": {},
   "outputs": [
    {
     "data": {
      "text/html": [
       "<div>\n",
       "<style scoped>\n",
       "    .dataframe tbody tr th:only-of-type {\n",
       "        vertical-align: middle;\n",
       "    }\n",
       "\n",
       "    .dataframe tbody tr th {\n",
       "        vertical-align: top;\n",
       "    }\n",
       "\n",
       "    .dataframe thead th {\n",
       "        text-align: right;\n",
       "    }\n",
       "</style>\n",
       "<table border=\"1\" class=\"dataframe\">\n",
       "  <thead>\n",
       "    <tr style=\"text-align: right;\">\n",
       "      <th></th>\n",
       "      <th>image_id</th>\n",
       "      <th>identity</th>\n",
       "      <th>path</th>\n",
       "      <th>cropped_img_name</th>\n",
       "      <th>in_blurred_images</th>\n",
       "      <th>maxim</th>\n",
       "    </tr>\n",
       "  </thead>\n",
       "  <tbody>\n",
       "    <tr>\n",
       "      <th>0</th>\n",
       "      <td>3958</td>\n",
       "      <td>matt</td>\n",
       "      <td>collared-interact/20190801_Y4bG_AucklandIsland...</td>\n",
       "      <td>20190801_Y4bG_AucklandIsland_A2_2_38_SD38_2019...</td>\n",
       "      <td>True</td>\n",
       "      <td>/Users/fmb/GitHub/764WildlifeReID/data/process...</td>\n",
       "    </tr>\n",
       "    <tr>\n",
       "      <th>1</th>\n",
       "      <td>3959</td>\n",
       "      <td>matt</td>\n",
       "      <td>collared-interact/20190801_Y4bG_AucklandIsland...</td>\n",
       "      <td>20190801_Y4bG_AucklandIsland_A2_2_38_SD38_2019...</td>\n",
       "      <td>True</td>\n",
       "      <td>/Users/fmb/GitHub/764WildlifeReID/data/process...</td>\n",
       "    </tr>\n",
       "    <tr>\n",
       "      <th>2</th>\n",
       "      <td>3204</td>\n",
       "      <td>matt</td>\n",
       "      <td>collared-ignore/20190801_Y4bG_AucklandIsland_A...</td>\n",
       "      <td>20190801_Y4bG_AucklandIsland_A2_2_38_SD38_2019...</td>\n",
       "      <td>True</td>\n",
       "      <td>/Users/fmb/GitHub/764WildlifeReID/data/process...</td>\n",
       "    </tr>\n",
       "    <tr>\n",
       "      <th>3</th>\n",
       "      <td>3960</td>\n",
       "      <td>matt</td>\n",
       "      <td>collared-interact/20190801_Y4bG_AucklandIsland...</td>\n",
       "      <td>20190801_Y4bG_AucklandIsland_A2_2_38_SD38_2019...</td>\n",
       "      <td>False</td>\n",
       "      <td>NaN</td>\n",
       "    </tr>\n",
       "    <tr>\n",
       "      <th>4</th>\n",
       "      <td>3961</td>\n",
       "      <td>matt</td>\n",
       "      <td>collared-interact/20190801_Y4bG_AucklandIsland...</td>\n",
       "      <td>20190801_Y4bG_AucklandIsland_A2_2_38_SD38_2019...</td>\n",
       "      <td>True</td>\n",
       "      <td>/Users/fmb/GitHub/764WildlifeReID/data/process...</td>\n",
       "    </tr>\n",
       "    <tr>\n",
       "      <th>...</th>\n",
       "      <td>...</td>\n",
       "      <td>...</td>\n",
       "      <td>...</td>\n",
       "      <td>...</td>\n",
       "      <td>...</td>\n",
       "      <td>...</td>\n",
       "    </tr>\n",
       "    <tr>\n",
       "      <th>1900</th>\n",
       "      <td>2423</td>\n",
       "      <td>linja</td>\n",
       "      <td>cat-ignore/20190801_nYPb_AucklandIsland_B2_2_1...</td>\n",
       "      <td>20190801_nYPb_AucklandIsland_B2_2_1_SD21_20190...</td>\n",
       "      <td>False</td>\n",
       "      <td>NaN</td>\n",
       "    </tr>\n",
       "    <tr>\n",
       "      <th>1901</th>\n",
       "      <td>2424</td>\n",
       "      <td>linja</td>\n",
       "      <td>cat-ignore/20190801_nYPb_AucklandIsland_B2_2_1...</td>\n",
       "      <td>20190801_nYPb_AucklandIsland_B2_2_1_SD21_20190...</td>\n",
       "      <td>False</td>\n",
       "      <td>NaN</td>\n",
       "    </tr>\n",
       "    <tr>\n",
       "      <th>1902</th>\n",
       "      <td>2425</td>\n",
       "      <td>linja</td>\n",
       "      <td>cat-ignore/20190801_nYPb_AucklandIsland_B2_2_1...</td>\n",
       "      <td>20190801_nYPb_AucklandIsland_B2_2_1_SD21_20190...</td>\n",
       "      <td>False</td>\n",
       "      <td>NaN</td>\n",
       "    </tr>\n",
       "    <tr>\n",
       "      <th>1903</th>\n",
       "      <td>2426</td>\n",
       "      <td>linja</td>\n",
       "      <td>cat-ignore/20190801_nYPb_AucklandIsland_B2_2_1...</td>\n",
       "      <td>20190801_nYPb_AucklandIsland_B2_2_1_SD21_20190...</td>\n",
       "      <td>False</td>\n",
       "      <td>NaN</td>\n",
       "    </tr>\n",
       "    <tr>\n",
       "      <th>1904</th>\n",
       "      <td>3955</td>\n",
       "      <td>matt</td>\n",
       "      <td>collared-ignore/20190801_g1ko_AucklandIsland__...</td>\n",
       "      <td>20190801_g1ko_AucklandIsland__D2_3_M_SD131_201...</td>\n",
       "      <td>False</td>\n",
       "      <td>NaN</td>\n",
       "    </tr>\n",
       "  </tbody>\n",
       "</table>\n",
       "<p>1905 rows × 6 columns</p>\n",
       "</div>"
      ],
      "text/plain": [
       "      image_id identity                                               path  \\\n",
       "0         3958     matt  collared-interact/20190801_Y4bG_AucklandIsland...   \n",
       "1         3959     matt  collared-interact/20190801_Y4bG_AucklandIsland...   \n",
       "2         3204     matt  collared-ignore/20190801_Y4bG_AucklandIsland_A...   \n",
       "3         3960     matt  collared-interact/20190801_Y4bG_AucklandIsland...   \n",
       "4         3961     matt  collared-interact/20190801_Y4bG_AucklandIsland...   \n",
       "...        ...      ...                                                ...   \n",
       "1900      2423    linja  cat-ignore/20190801_nYPb_AucklandIsland_B2_2_1...   \n",
       "1901      2424    linja  cat-ignore/20190801_nYPb_AucklandIsland_B2_2_1...   \n",
       "1902      2425    linja  cat-ignore/20190801_nYPb_AucklandIsland_B2_2_1...   \n",
       "1903      2426    linja  cat-ignore/20190801_nYPb_AucklandIsland_B2_2_1...   \n",
       "1904      3955     matt  collared-ignore/20190801_g1ko_AucklandIsland__...   \n",
       "\n",
       "                                       cropped_img_name  in_blurred_images  \\\n",
       "0     20190801_Y4bG_AucklandIsland_A2_2_38_SD38_2019...               True   \n",
       "1     20190801_Y4bG_AucklandIsland_A2_2_38_SD38_2019...               True   \n",
       "2     20190801_Y4bG_AucklandIsland_A2_2_38_SD38_2019...               True   \n",
       "3     20190801_Y4bG_AucklandIsland_A2_2_38_SD38_2019...              False   \n",
       "4     20190801_Y4bG_AucklandIsland_A2_2_38_SD38_2019...               True   \n",
       "...                                                 ...                ...   \n",
       "1900  20190801_nYPb_AucklandIsland_B2_2_1_SD21_20190...              False   \n",
       "1901  20190801_nYPb_AucklandIsland_B2_2_1_SD21_20190...              False   \n",
       "1902  20190801_nYPb_AucklandIsland_B2_2_1_SD21_20190...              False   \n",
       "1903  20190801_nYPb_AucklandIsland_B2_2_1_SD21_20190...              False   \n",
       "1904  20190801_g1ko_AucklandIsland__D2_3_M_SD131_201...              False   \n",
       "\n",
       "                                                  maxim  \n",
       "0     /Users/fmb/GitHub/764WildlifeReID/data/process...  \n",
       "1     /Users/fmb/GitHub/764WildlifeReID/data/process...  \n",
       "2     /Users/fmb/GitHub/764WildlifeReID/data/process...  \n",
       "3                                                   NaN  \n",
       "4     /Users/fmb/GitHub/764WildlifeReID/data/process...  \n",
       "...                                                 ...  \n",
       "1900                                                NaN  \n",
       "1901                                                NaN  \n",
       "1902                                                NaN  \n",
       "1903                                                NaN  \n",
       "1904                                                NaN  \n",
       "\n",
       "[1905 rows x 6 columns]"
      ]
     },
     "execution_count": 152,
     "metadata": {},
     "output_type": "execute_result"
    }
   ],
   "source": [
    "maxim_merged"
   ]
  },
  {
   "cell_type": "code",
   "execution_count": 153,
   "metadata": {},
   "outputs": [
    {
     "data": {
      "text/plain": [
       "0       collared-interact/20190801_Y4bG_AucklandIsland...\n",
       "1       collared-interact/20190801_Y4bG_AucklandIsland...\n",
       "2       collared-ignore/20190801_Y4bG_AucklandIsland_A...\n",
       "3                                                     NaN\n",
       "4       collared-interact/20190801_Y4bG_AucklandIsland...\n",
       "                              ...                        \n",
       "1900                                                  NaN\n",
       "1901                                                  NaN\n",
       "1902                                                  NaN\n",
       "1903                                                  NaN\n",
       "1904                                                  NaN\n",
       "Length: 1905, dtype: object"
      ]
     },
     "execution_count": 153,
     "metadata": {},
     "output_type": "execute_result"
    }
   ],
   "source": [
    "maxim_merged.apply(lambda row: row['path'] if row['in_blurred_images'] else row['maxim'], axis=1)"
   ]
  },
  {
   "cell_type": "code",
   "execution_count": 193,
   "metadata": {},
   "outputs": [],
   "source": [
    "# select subset of paths with augmented images to transfer\n",
    "def prepare_paths_transfer(merged_df, aug_column):\n",
    "    origin_paths = []\n",
    "\n",
    "    for idx in merged_df.index:\n",
    "        if merged_df.iloc[idx]['in_blurred_images']:\n",
    "            origin_paths.append(merged_df.iloc[idx][aug_column])\n",
    "        else:\n",
    "            origin_paths.append(pathlib.Path('/Users/fmb/GitHub/764WildlifeReID/data/processed/cropped')/merged_df.iloc[idx]['path'])\n",
    "\n",
    "    return pd.Series(origin_paths)"
   ]
  },
  {
   "cell_type": "code",
   "execution_count": 198,
   "metadata": {},
   "outputs": [
    {
     "data": {
      "text/plain": [
       "(1905,)"
      ]
     },
     "execution_count": 198,
     "metadata": {},
     "output_type": "execute_result"
    }
   ],
   "source": [
    "prepare_paths_transfer(maxim_merged, 'maxim').shape"
   ]
  },
  {
   "cell_type": "code",
   "execution_count": 194,
   "metadata": {},
   "outputs": [
    {
     "data": {
      "text/plain": [
       "(0, 0, 0)"
      ]
     },
     "execution_count": 194,
     "metadata": {},
     "output_type": "execute_result"
    }
   ],
   "source": [
    "prepare_paths_transfer(maxim_merged, 'maxim').isna().sum(), prepare_paths_transfer(hidiff_merged, 'hidiff').isna().sum(), prepare_paths_transfer(srmnet_merged, 'srmnet').isna().sum()"
   ]
  },
  {
   "cell_type": "code",
   "execution_count": 195,
   "metadata": {},
   "outputs": [],
   "source": [
    "def transfer_files(origin_paths, destination_folder):\n",
    "    destination_dir = pathlib.Path(f'/Users/fmb/GitHub/764WildlifeReID/data/formatted_datasets/FeralCatsAkl_{destination_folder}')\n",
    "    for origin_path in origin_paths:\n",
    "        shutil.copy(origin_path, destination_dir)"
   ]
  },
  {
   "cell_type": "code",
   "execution_count": 196,
   "metadata": {},
   "outputs": [],
   "source": [
    "transfer_files(prepare_paths_transfer(maxim_merged, 'maxim'), 'maxim')"
   ]
  },
  {
   "cell_type": "code",
   "execution_count": 197,
   "metadata": {},
   "outputs": [],
   "source": [
    "transfer_files(prepare_paths_transfer(hidiff_merged, 'hidiff'), 'hidiff')\n",
    "transfer_files(prepare_paths_transfer(srmnet_merged, 'srmnet'), 'srmnet')"
   ]
  },
  {
   "cell_type": "markdown",
   "metadata": {},
   "source": [
    "## Prepare Labels for Refactored Datasets"
   ]
  },
  {
   "cell_type": "code",
   "execution_count": 203,
   "metadata": {},
   "outputs": [],
   "source": [
    "# read in images from refactored location\n",
    "\n",
    "def fetch_images(image_dir):\n",
    "    filenames = []\n",
    "    names = []\n",
    "    for image_path in image_dir.iterdir():\n",
    "        if image_path.is_file() and image_path.suffix == '.JPG':\n",
    "            filenames.append(image_path)\n",
    "            names.append(image_path.name)\n",
    "            \n",
    "    return pd.DataFrame({'path': filenames, 'img_name': names})\n",
    "\n",
    "fca_maxim_files = fetch_images(pathlib.Path('/Users/fmb/GitHub/764WildlifeReID/data/formatted_datasets/FeralCatsAkl_maxim'))\n",
    "fca_hidiff_files = fetch_images(pathlib.Path('/Users/fmb/GitHub/764WildlifeReID/data/formatted_datasets/FeralCatsAkl_hidiff'))\n",
    "fca_srmnet_files = fetch_images(pathlib.Path('/Users/fmb/GitHub/764WildlifeReID/data/formatted_datasets/FeralCatsAkl_srmnet'))"
   ]
  },
  {
   "cell_type": "code",
   "execution_count": 204,
   "metadata": {},
   "outputs": [
    {
     "data": {
      "text/html": [
       "<div>\n",
       "<style scoped>\n",
       "    .dataframe tbody tr th:only-of-type {\n",
       "        vertical-align: middle;\n",
       "    }\n",
       "\n",
       "    .dataframe tbody tr th {\n",
       "        vertical-align: top;\n",
       "    }\n",
       "\n",
       "    .dataframe thead th {\n",
       "        text-align: right;\n",
       "    }\n",
       "</style>\n",
       "<table border=\"1\" class=\"dataframe\">\n",
       "  <thead>\n",
       "    <tr style=\"text-align: right;\">\n",
       "      <th></th>\n",
       "      <th>image_id</th>\n",
       "      <th>identity</th>\n",
       "      <th>path</th>\n",
       "      <th>cropped_img_name</th>\n",
       "      <th>in_blurred_images</th>\n",
       "      <th>maxim</th>\n",
       "    </tr>\n",
       "  </thead>\n",
       "  <tbody>\n",
       "    <tr>\n",
       "      <th>0</th>\n",
       "      <td>3958</td>\n",
       "      <td>matt</td>\n",
       "      <td>collared-interact/20190801_Y4bG_AucklandIsland...</td>\n",
       "      <td>20190801_Y4bG_AucklandIsland_A2_2_38_SD38_2019...</td>\n",
       "      <td>True</td>\n",
       "      <td>/Users/fmb/GitHub/764WildlifeReID/data/process...</td>\n",
       "    </tr>\n",
       "    <tr>\n",
       "      <th>1</th>\n",
       "      <td>3959</td>\n",
       "      <td>matt</td>\n",
       "      <td>collared-interact/20190801_Y4bG_AucklandIsland...</td>\n",
       "      <td>20190801_Y4bG_AucklandIsland_A2_2_38_SD38_2019...</td>\n",
       "      <td>True</td>\n",
       "      <td>/Users/fmb/GitHub/764WildlifeReID/data/process...</td>\n",
       "    </tr>\n",
       "    <tr>\n",
       "      <th>2</th>\n",
       "      <td>3204</td>\n",
       "      <td>matt</td>\n",
       "      <td>collared-ignore/20190801_Y4bG_AucklandIsland_A...</td>\n",
       "      <td>20190801_Y4bG_AucklandIsland_A2_2_38_SD38_2019...</td>\n",
       "      <td>True</td>\n",
       "      <td>/Users/fmb/GitHub/764WildlifeReID/data/process...</td>\n",
       "    </tr>\n",
       "    <tr>\n",
       "      <th>3</th>\n",
       "      <td>3960</td>\n",
       "      <td>matt</td>\n",
       "      <td>collared-interact/20190801_Y4bG_AucklandIsland...</td>\n",
       "      <td>20190801_Y4bG_AucklandIsland_A2_2_38_SD38_2019...</td>\n",
       "      <td>False</td>\n",
       "      <td>NaN</td>\n",
       "    </tr>\n",
       "    <tr>\n",
       "      <th>4</th>\n",
       "      <td>3961</td>\n",
       "      <td>matt</td>\n",
       "      <td>collared-interact/20190801_Y4bG_AucklandIsland...</td>\n",
       "      <td>20190801_Y4bG_AucklandIsland_A2_2_38_SD38_2019...</td>\n",
       "      <td>True</td>\n",
       "      <td>/Users/fmb/GitHub/764WildlifeReID/data/process...</td>\n",
       "    </tr>\n",
       "  </tbody>\n",
       "</table>\n",
       "</div>"
      ],
      "text/plain": [
       "   image_id identity                                               path  \\\n",
       "0      3958     matt  collared-interact/20190801_Y4bG_AucklandIsland...   \n",
       "1      3959     matt  collared-interact/20190801_Y4bG_AucklandIsland...   \n",
       "2      3204     matt  collared-ignore/20190801_Y4bG_AucklandIsland_A...   \n",
       "3      3960     matt  collared-interact/20190801_Y4bG_AucklandIsland...   \n",
       "4      3961     matt  collared-interact/20190801_Y4bG_AucklandIsland...   \n",
       "\n",
       "                                    cropped_img_name  in_blurred_images  \\\n",
       "0  20190801_Y4bG_AucklandIsland_A2_2_38_SD38_2019...               True   \n",
       "1  20190801_Y4bG_AucklandIsland_A2_2_38_SD38_2019...               True   \n",
       "2  20190801_Y4bG_AucklandIsland_A2_2_38_SD38_2019...               True   \n",
       "3  20190801_Y4bG_AucklandIsland_A2_2_38_SD38_2019...              False   \n",
       "4  20190801_Y4bG_AucklandIsland_A2_2_38_SD38_2019...               True   \n",
       "\n",
       "                                               maxim  \n",
       "0  /Users/fmb/GitHub/764WildlifeReID/data/process...  \n",
       "1  /Users/fmb/GitHub/764WildlifeReID/data/process...  \n",
       "2  /Users/fmb/GitHub/764WildlifeReID/data/process...  \n",
       "3                                                NaN  \n",
       "4  /Users/fmb/GitHub/764WildlifeReID/data/process...  "
      ]
     },
     "execution_count": 204,
     "metadata": {},
     "output_type": "execute_result"
    }
   ],
   "source": [
    "maxim_merged.head(5)"
   ]
  },
  {
   "cell_type": "code",
   "execution_count": 217,
   "metadata": {},
   "outputs": [],
   "source": [
    "merged_dummy = fca_maxim_files.merge(maxim_merged, left_on='img_name', right_on='cropped_img_name', how='left')"
   ]
  },
  {
   "cell_type": "code",
   "execution_count": 230,
   "metadata": {},
   "outputs": [
    {
     "data": {
      "text/html": [
       "<div>\n",
       "<style scoped>\n",
       "    .dataframe tbody tr th:only-of-type {\n",
       "        vertical-align: middle;\n",
       "    }\n",
       "\n",
       "    .dataframe tbody tr th {\n",
       "        vertical-align: top;\n",
       "    }\n",
       "\n",
       "    .dataframe thead th {\n",
       "        text-align: right;\n",
       "    }\n",
       "</style>\n",
       "<table border=\"1\" class=\"dataframe\">\n",
       "  <thead>\n",
       "    <tr style=\"text-align: right;\">\n",
       "      <th></th>\n",
       "      <th>path_x</th>\n",
       "      <th>img_name</th>\n",
       "      <th>image_id</th>\n",
       "      <th>identity</th>\n",
       "      <th>path_y</th>\n",
       "      <th>cropped_img_name</th>\n",
       "      <th>in_blurred_images</th>\n",
       "      <th>maxim</th>\n",
       "    </tr>\n",
       "  </thead>\n",
       "  <tbody>\n",
       "    <tr>\n",
       "      <th>0</th>\n",
       "      <td>/Users/fmb/GitHub/764WildlifeReID/data/formatt...</td>\n",
       "      <td>20190801_Y4bG_AucklandIsland_A2_2_38_SD38_2019...</td>\n",
       "      <td>3958</td>\n",
       "      <td>matt</td>\n",
       "      <td>collared-interact/20190801_Y4bG_AucklandIsland...</td>\n",
       "      <td>20190801_Y4bG_AucklandIsland_A2_2_38_SD38_2019...</td>\n",
       "      <td>True</td>\n",
       "      <td>/Users/fmb/GitHub/764WildlifeReID/data/process...</td>\n",
       "    </tr>\n",
       "    <tr>\n",
       "      <th>1</th>\n",
       "      <td>/Users/fmb/GitHub/764WildlifeReID/data/formatt...</td>\n",
       "      <td>20190801_kW8J_AucklandIsland_A2_3_41_SD15_2019...</td>\n",
       "      <td>3150</td>\n",
       "      <td>matt</td>\n",
       "      <td>collared-eat/20190801_kW8J_AucklandIsland_A2_3...</td>\n",
       "      <td>20190801_kW8J_AucklandIsland_A2_3_41_SD15_2019...</td>\n",
       "      <td>False</td>\n",
       "      <td>NaN</td>\n",
       "    </tr>\n",
       "    <tr>\n",
       "      <th>2</th>\n",
       "      <td>/Users/fmb/GitHub/764WildlifeReID/data/formatt...</td>\n",
       "      <td>20190801_3vNi_AucklandIsland_B2_5_35_SD47_2019...</td>\n",
       "      <td>3915</td>\n",
       "      <td>matt</td>\n",
       "      <td>collared-ignore/20190801_3vNi_AucklandIsland_B...</td>\n",
       "      <td>20190801_3vNi_AucklandIsland_B2_5_35_SD47_2019...</td>\n",
       "      <td>False</td>\n",
       "      <td>NaN</td>\n",
       "    </tr>\n",
       "    <tr>\n",
       "      <th>3</th>\n",
       "      <td>/Users/fmb/GitHub/764WildlifeReID/data/formatt...</td>\n",
       "      <td>20190801_nYPb_AucklandIsland_B2_2_1_SD21_20190...</td>\n",
       "      <td>2356</td>\n",
       "      <td>nuclei</td>\n",
       "      <td>cat-ignore/20190801_nYPb_AucklandIsland_B2_2_1...</td>\n",
       "      <td>20190801_nYPb_AucklandIsland_B2_2_1_SD21_20190...</td>\n",
       "      <td>False</td>\n",
       "      <td>NaN</td>\n",
       "    </tr>\n",
       "    <tr>\n",
       "      <th>4</th>\n",
       "      <td>/Users/fmb/GitHub/764WildlifeReID/data/formatt...</td>\n",
       "      <td>20190801_g7RF_AucklandIsland_C1_6_45_SD125_201...</td>\n",
       "      <td>1581</td>\n",
       "      <td>linja</td>\n",
       "      <td>cat-ignore/20190801_g7RF_AucklandIsland_C1_6_4...</td>\n",
       "      <td>20190801_g7RF_AucklandIsland_C1_6_45_SD125_201...</td>\n",
       "      <td>False</td>\n",
       "      <td>NaN</td>\n",
       "    </tr>\n",
       "    <tr>\n",
       "      <th>...</th>\n",
       "      <td>...</td>\n",
       "      <td>...</td>\n",
       "      <td>...</td>\n",
       "      <td>...</td>\n",
       "      <td>...</td>\n",
       "      <td>...</td>\n",
       "      <td>...</td>\n",
       "      <td>...</td>\n",
       "    </tr>\n",
       "    <tr>\n",
       "      <th>1900</th>\n",
       "      <td>/Users/fmb/GitHub/764WildlifeReID/data/formatt...</td>\n",
       "      <td>20190801_g7RF_AucklandIsland_C1_6_45_SD125_201...</td>\n",
       "      <td>1290</td>\n",
       "      <td>linja</td>\n",
       "      <td>cat-ignore/20190801_g7RF_AucklandIsland_C1_6_4...</td>\n",
       "      <td>20190801_g7RF_AucklandIsland_C1_6_45_SD125_201...</td>\n",
       "      <td>False</td>\n",
       "      <td>NaN</td>\n",
       "    </tr>\n",
       "    <tr>\n",
       "      <th>1901</th>\n",
       "      <td>/Users/fmb/GitHub/764WildlifeReID/data/formatt...</td>\n",
       "      <td>20190801_kW8J_AucklandIsland_A2_3_41_SD15_2019...</td>\n",
       "      <td>3073</td>\n",
       "      <td>matt</td>\n",
       "      <td>collared-eat/20190801_kW8J_AucklandIsland_A2_3...</td>\n",
       "      <td>20190801_kW8J_AucklandIsland_A2_3_41_SD15_2019...</td>\n",
       "      <td>False</td>\n",
       "      <td>NaN</td>\n",
       "    </tr>\n",
       "    <tr>\n",
       "      <th>1902</th>\n",
       "      <td>/Users/fmb/GitHub/764WildlifeReID/data/formatt...</td>\n",
       "      <td>20190801_kW8J_AucklandIsland_A2_3_41_SD15_2019...</td>\n",
       "      <td>4172</td>\n",
       "      <td>matt</td>\n",
       "      <td>collared-interact/20190801_kW8J_AucklandIsland...</td>\n",
       "      <td>20190801_kW8J_AucklandIsland_A2_3_41_SD15_2019...</td>\n",
       "      <td>False</td>\n",
       "      <td>NaN</td>\n",
       "    </tr>\n",
       "    <tr>\n",
       "      <th>1903</th>\n",
       "      <td>/Users/fmb/GitHub/764WildlifeReID/data/formatt...</td>\n",
       "      <td>20190801_Y4bG_AucklandIsland_A2_2_38_SD38_2019...</td>\n",
       "      <td>2923</td>\n",
       "      <td>matt</td>\n",
       "      <td>collared-eat/20190801_Y4bG_AucklandIsland_A2_2...</td>\n",
       "      <td>20190801_Y4bG_AucklandIsland_A2_2_38_SD38_2019...</td>\n",
       "      <td>False</td>\n",
       "      <td>NaN</td>\n",
       "    </tr>\n",
       "    <tr>\n",
       "      <th>1904</th>\n",
       "      <td>/Users/fmb/GitHub/764WildlifeReID/data/formatt...</td>\n",
       "      <td>20190801_iLT8_AucklandIsland_B2_2_1_SD111_2019...</td>\n",
       "      <td>932</td>\n",
       "      <td>linja</td>\n",
       "      <td>cat-ignore/20190801_iLT8_AucklandIsland_B2_2_1...</td>\n",
       "      <td>20190801_iLT8_AucklandIsland_B2_2_1_SD111_2019...</td>\n",
       "      <td>False</td>\n",
       "      <td>NaN</td>\n",
       "    </tr>\n",
       "  </tbody>\n",
       "</table>\n",
       "<p>1905 rows × 8 columns</p>\n",
       "</div>"
      ],
      "text/plain": [
       "                                                 path_x  \\\n",
       "0     /Users/fmb/GitHub/764WildlifeReID/data/formatt...   \n",
       "1     /Users/fmb/GitHub/764WildlifeReID/data/formatt...   \n",
       "2     /Users/fmb/GitHub/764WildlifeReID/data/formatt...   \n",
       "3     /Users/fmb/GitHub/764WildlifeReID/data/formatt...   \n",
       "4     /Users/fmb/GitHub/764WildlifeReID/data/formatt...   \n",
       "...                                                 ...   \n",
       "1900  /Users/fmb/GitHub/764WildlifeReID/data/formatt...   \n",
       "1901  /Users/fmb/GitHub/764WildlifeReID/data/formatt...   \n",
       "1902  /Users/fmb/GitHub/764WildlifeReID/data/formatt...   \n",
       "1903  /Users/fmb/GitHub/764WildlifeReID/data/formatt...   \n",
       "1904  /Users/fmb/GitHub/764WildlifeReID/data/formatt...   \n",
       "\n",
       "                                               img_name  image_id identity  \\\n",
       "0     20190801_Y4bG_AucklandIsland_A2_2_38_SD38_2019...      3958     matt   \n",
       "1     20190801_kW8J_AucklandIsland_A2_3_41_SD15_2019...      3150     matt   \n",
       "2     20190801_3vNi_AucklandIsland_B2_5_35_SD47_2019...      3915     matt   \n",
       "3     20190801_nYPb_AucklandIsland_B2_2_1_SD21_20190...      2356   nuclei   \n",
       "4     20190801_g7RF_AucklandIsland_C1_6_45_SD125_201...      1581    linja   \n",
       "...                                                 ...       ...      ...   \n",
       "1900  20190801_g7RF_AucklandIsland_C1_6_45_SD125_201...      1290    linja   \n",
       "1901  20190801_kW8J_AucklandIsland_A2_3_41_SD15_2019...      3073     matt   \n",
       "1902  20190801_kW8J_AucklandIsland_A2_3_41_SD15_2019...      4172     matt   \n",
       "1903  20190801_Y4bG_AucklandIsland_A2_2_38_SD38_2019...      2923     matt   \n",
       "1904  20190801_iLT8_AucklandIsland_B2_2_1_SD111_2019...       932    linja   \n",
       "\n",
       "                                                 path_y  \\\n",
       "0     collared-interact/20190801_Y4bG_AucklandIsland...   \n",
       "1     collared-eat/20190801_kW8J_AucklandIsland_A2_3...   \n",
       "2     collared-ignore/20190801_3vNi_AucklandIsland_B...   \n",
       "3     cat-ignore/20190801_nYPb_AucklandIsland_B2_2_1...   \n",
       "4     cat-ignore/20190801_g7RF_AucklandIsland_C1_6_4...   \n",
       "...                                                 ...   \n",
       "1900  cat-ignore/20190801_g7RF_AucklandIsland_C1_6_4...   \n",
       "1901  collared-eat/20190801_kW8J_AucklandIsland_A2_3...   \n",
       "1902  collared-interact/20190801_kW8J_AucklandIsland...   \n",
       "1903  collared-eat/20190801_Y4bG_AucklandIsland_A2_2...   \n",
       "1904  cat-ignore/20190801_iLT8_AucklandIsland_B2_2_1...   \n",
       "\n",
       "                                       cropped_img_name  in_blurred_images  \\\n",
       "0     20190801_Y4bG_AucklandIsland_A2_2_38_SD38_2019...               True   \n",
       "1     20190801_kW8J_AucklandIsland_A2_3_41_SD15_2019...              False   \n",
       "2     20190801_3vNi_AucklandIsland_B2_5_35_SD47_2019...              False   \n",
       "3     20190801_nYPb_AucklandIsland_B2_2_1_SD21_20190...              False   \n",
       "4     20190801_g7RF_AucklandIsland_C1_6_45_SD125_201...              False   \n",
       "...                                                 ...                ...   \n",
       "1900  20190801_g7RF_AucklandIsland_C1_6_45_SD125_201...              False   \n",
       "1901  20190801_kW8J_AucklandIsland_A2_3_41_SD15_2019...              False   \n",
       "1902  20190801_kW8J_AucklandIsland_A2_3_41_SD15_2019...              False   \n",
       "1903  20190801_Y4bG_AucklandIsland_A2_2_38_SD38_2019...              False   \n",
       "1904  20190801_iLT8_AucklandIsland_B2_2_1_SD111_2019...              False   \n",
       "\n",
       "                                                  maxim  \n",
       "0     /Users/fmb/GitHub/764WildlifeReID/data/process...  \n",
       "1                                                   NaN  \n",
       "2                                                   NaN  \n",
       "3                                                   NaN  \n",
       "4                                                   NaN  \n",
       "...                                                 ...  \n",
       "1900                                                NaN  \n",
       "1901                                                NaN  \n",
       "1902                                                NaN  \n",
       "1903                                                NaN  \n",
       "1904                                                NaN  \n",
       "\n",
       "[1905 rows x 8 columns]"
      ]
     },
     "execution_count": 230,
     "metadata": {},
     "output_type": "execute_result"
    }
   ],
   "source": [
    "merged_dummy"
   ]
  },
  {
   "cell_type": "code",
   "execution_count": 231,
   "metadata": {},
   "outputs": [],
   "source": [
    "def get_labelled_df(fca_df, merged_df):\n",
    "    labelled_df = fca_df.merge(merged_df, left_on='img_name', right_on='cropped_img_name', how='left')\n",
    "    return pd.DataFrame({'image_id': labelled_df['image_id'], \n",
    "                         'identity': labelled_df['identity'], \n",
    "                         'path': labelled_df['img_name'].apply(lambda x: pathlib.Path(x))})"
   ]
  },
  {
   "cell_type": "code",
   "execution_count": 232,
   "metadata": {},
   "outputs": [],
   "source": [
    "get_labelled_df(fca_maxim_files, maxim_merged).to_csv('/Users/fmb/GitHub/764WildlifeReID/data/labels/FeralCatsAkl_maxim_labels.csv', index=False)"
   ]
  },
  {
   "cell_type": "code",
   "execution_count": 233,
   "metadata": {},
   "outputs": [],
   "source": [
    "get_labelled_df(fca_hidiff_files, hidiff_merged).to_csv('/Users/fmb/GitHub/764WildlifeReID/data/labels/FeralCatsAkl_hidiff_labels.csv', index=False)\n",
    "get_labelled_df(fca_srmnet_files, srmnet_merged).to_csv('/Users/fmb/GitHub/764WildlifeReID/data/labels/FeralCatsAkl_srmnet_labels.csv', index=False)"
   ]
  },
  {
   "cell_type": "markdown",
   "metadata": {},
   "source": [
    "#### proceed to upload to datasets.py (see [README](/Users/fmb/GitHub/764WildlifeReID/data/README))"
   ]
  }
 ],
 "metadata": {
  "kernelspec": {
   "display_name": "compsci764",
   "language": "python",
   "name": "python3"
  },
  "language_info": {
   "codemirror_mode": {
    "name": "ipython",
    "version": 3
   },
   "file_extension": ".py",
   "mimetype": "text/x-python",
   "name": "python",
   "nbconvert_exporter": "python",
   "pygments_lexer": "ipython3",
   "version": "3.8.20"
  }
 },
 "nbformat": 4,
 "nbformat_minor": 2
}
