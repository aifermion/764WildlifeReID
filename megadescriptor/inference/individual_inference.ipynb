{
 "cells": [
  {
   "cell_type": "markdown",
   "id": "fe0d307d",
   "metadata": {},
   "source": [
    "# MegaDescriptor-S-224\n",
    "- Run inference with MegaDescriptor-S-224 (https://huggingface.co/BVRA/MegaDescriptor-S-224)"
   ]
  },
  {
   "cell_type": "code",
   "execution_count": 5,
   "id": "904f6e6c",
   "metadata": {},
   "outputs": [],
   "source": [
    "import pandas as pd\n",
    "from torchvision import transforms as T\n",
    "from timm import create_model\n",
    "import torch\n",
    "import torch.nn as nn\n",
    "from pathlib import Path\n",
    "import os\n",
    "\n",
    "from wildlife_tools.features.deep import DeepFeatures\n",
    "from wildlife_tools.data.dataset import WildlifeDataset\n",
    "from wildlife_tools.data.split import SplitMetadata\n",
    "from wildlife_tools.similarity.cosine import CosineSimilarity\n",
    "from wildlife_tools.evaluation.classifier import KnnClassifier"
   ]
  },
  {
   "cell_type": "code",
   "execution_count": 18,
   "id": "10821444",
   "metadata": {},
   "outputs": [],
   "source": [
    "import numpy as np"
   ]
  },
  {
   "cell_type": "code",
   "execution_count": 13,
   "id": "bb0ec658",
   "metadata": {},
   "outputs": [],
   "source": [
    "# root of model paths\n",
    "models_root = Path('/Users/fmb/GitHub/764WildlifeReID/megadescriptor/models/')\n",
    "root_images = Path('/Users/fmb/GitHub/764WildlifeReID/megadescriptor/data/images/size-256')\n",
    "root_metadata = Path('/Users/fmb/GitHub/764WildlifeReID/megadescriptor/metadata/datasets')"
   ]
  },
  {
   "cell_type": "code",
   "execution_count": 15,
   "id": "25fe1ecb",
   "metadata": {},
   "outputs": [],
   "source": [
    "# store results for all inferencing here\n",
    "results = {}"
   ]
  },
  {
   "cell_type": "markdown",
   "id": "33b31179",
   "metadata": {},
   "source": [
    "## Baseline Inference"
   ]
  },
  {
   "cell_type": "code",
   "execution_count": 8,
   "id": "11910f00",
   "metadata": {},
   "outputs": [
    {
     "name": "stderr",
     "output_type": "stream",
     "text": [
      "/var/folders/r7/hlvr4tcn43d2pztz8gqr8_sc0000gn/T/ipykernel_26575/3547700861.py:1: FutureWarning: You are using `torch.load` with `weights_only=False` (the current default value), which uses the default pickle module implicitly. It is possible to construct malicious pickle data which will execute arbitrary code during unpickling (See https://github.com/pytorch/pytorch/blob/main/SECURITY.md#untrusted-models for more details). In a future release, the default value for `weights_only` will be flipped to `True`. This limits the functions that could be executed during unpickling. Arbitrary objects will no longer be allowed to be loaded via this mode unless they are explicitly allowlisted by the user via `torch.serialization.add_safe_globals`. We recommend you start setting `weights_only=True` for any use case where you don't have full control of the loaded file. Please open an issue on GitHub for any issues related to this experimental feature.\n",
      "  model_baseline = torch.load(models_root/'md_baseline.pth', map_location='cpu')\n"
     ]
    }
   ],
   "source": [
    "model_baseline = torch.load(models_root/'md_baseline.pth', map_location='cpu')"
   ]
  },
  {
   "cell_type": "code",
   "execution_count": 9,
   "id": "6171b237",
   "metadata": {},
   "outputs": [],
   "source": [
    "extractor_baseline = DeepFeatures(model_baseline, device='cpu')"
   ]
  },
  {
   "cell_type": "code",
   "execution_count": 11,
   "id": "a0d0ab83",
   "metadata": {},
   "outputs": [],
   "source": [
    "# defined for all four datasets\n",
    "transform = T.Compose([\n",
    "    T.Resize(size=(224, 224)),\n",
    "    T.ToTensor(),\n",
    "    T.Normalize(mean=(0.485, 0.456, 0.406), std=(0.229, 0.224, 0.225)),\n",
    "])"
   ]
  },
  {
   "cell_type": "code",
   "execution_count": 14,
   "id": "5634664c",
   "metadata": {},
   "outputs": [],
   "source": [
    "# prepare dataset\n",
    "\n",
    "#***\n",
    "metadata_baseline = pd.read_csv(root_metadata/'fca_base/metadata.csv', index_col=0)\n",
    "images_path = root_images/'fca_base'\n",
    "\n",
    "#***\n",
    "database_baseline = WildlifeDataset(\n",
    "    metadata=metadata_baseline,\n",
    "    root=images_path,\n",
    "    transform=transform,\n",
    "    split=SplitMetadata('split', 'train'),\n",
    ")\n",
    "\n",
    "#***\n",
    "query_baseline = WildlifeDataset(\n",
    "    metadata=metadata_baseline,\n",
    "    root=images_path,\n",
    "    transform=transform,\n",
    "    split=SplitMetadata('split', 'test'),\n",
    ")"
   ]
  },
  {
   "cell_type": "code",
   "execution_count": null,
   "id": "b0e7145c",
   "metadata": {},
   "outputs": [],
   "source": [
    "matcher = CosineSimilarity()\n",
    "\n",
    "#***\n",
    "similarity_baseline = matcher(query=extractor_baseline(query_baseline), \n",
    "                     database=extractor_baseline(database_baseline))"
   ]
  },
  {
   "cell_type": "code",
   "execution_count": 21,
   "id": "32b0ec8b",
   "metadata": {},
   "outputs": [
    {
     "data": {
      "text/plain": [
       "dict_keys(['default'])"
      ]
     },
     "execution_count": 21,
     "metadata": {},
     "output_type": "execute_result"
    }
   ],
   "source": [
    "similarity_baseline.keys()"
   ]
  },
  {
   "cell_type": "code",
   "execution_count": 29,
   "id": "3ae460dd",
   "metadata": {},
   "outputs": [],
   "source": [
    "classifier = KnnClassifier(k=1)\n",
    "predictions_baseline = classifier(similarity_baseline['default'], labels=database_baseline.labels_string)"
   ]
  },
  {
   "cell_type": "code",
   "execution_count": null,
   "id": "8d66a50d",
   "metadata": {},
   "outputs": [],
   "source": [
    "predictions_baseline"
   ]
  },
  {
   "cell_type": "code",
   "execution_count": 31,
   "id": "7db277bb",
   "metadata": {},
   "outputs": [
    {
     "name": "stdout",
     "output_type": "stream",
     "text": [
      "fca_base 0.9606299212598425\n"
     ]
    }
   ],
   "source": [
    "#***\n",
    "acc_baseline = sum(predictions_baseline == query_baseline.labels_string) / len(predictions_baseline)\n",
    "\n",
    "#***\n",
    "print('fca_base', acc_baseline)\n",
    "results['fca_base'] = acc_baseline"
   ]
  },
  {
   "cell_type": "markdown",
   "id": "a2cdf4b2",
   "metadata": {},
   "source": [
    "## Backbone Inference"
   ]
  },
  {
   "cell_type": "code",
   "execution_count": 54,
   "id": "3dc4b9dd",
   "metadata": {},
   "outputs": [
    {
     "name": "stderr",
     "output_type": "stream",
     "text": [
      "/var/folders/r7/hlvr4tcn43d2pztz8gqr8_sc0000gn/T/ipykernel_26575/3412439650.py:1: FutureWarning: You are using `torch.load` with `weights_only=False` (the current default value), which uses the default pickle module implicitly. It is possible to construct malicious pickle data which will execute arbitrary code during unpickling (See https://github.com/pytorch/pytorch/blob/main/SECURITY.md#untrusted-models for more details). In a future release, the default value for `weights_only` will be flipped to `True`. This limits the functions that could be executed during unpickling. Arbitrary objects will no longer be allowed to be loaded via this mode unless they are explicitly allowlisted by the user via `torch.serialization.add_safe_globals`. We recommend you start setting `weights_only=True` for any use case where you don't have full control of the loaded file. Please open an issue on GitHub for any issues related to this experimental feature.\n",
      "  model_backbone = torch.load(models_root/'backbone.pth', map_location='cpu')\n"
     ]
    }
   ],
   "source": [
    "model_backbone = torch.load(models_root/'backbone.pth', map_location='cpu')"
   ]
  },
  {
   "cell_type": "code",
   "execution_count": 55,
   "id": "926a7f88",
   "metadata": {},
   "outputs": [],
   "source": [
    "extractor_backbone = DeepFeatures(model_backbone, device='cpu')"
   ]
  },
  {
   "cell_type": "code",
   "execution_count": 56,
   "id": "d3567716",
   "metadata": {},
   "outputs": [],
   "source": [
    "# prepare dataset\n",
    "\n",
    "#***\n",
    "metadata_backbone = pd.read_csv(root_metadata/'fca_base/metadata.csv', index_col=0)\n",
    "images_path = root_images/'fca_base'\n",
    "\n",
    "#***\n",
    "database_backbone = WildlifeDataset(\n",
    "    metadata=metadata_backbone,\n",
    "    root=images_path,\n",
    "    transform=transform,\n",
    "    split=SplitMetadata('split', 'train'),\n",
    ")\n",
    "\n",
    "#***\n",
    "query_backbone = WildlifeDataset(\n",
    "    metadata=metadata_backbone,\n",
    "    root=images_path,\n",
    "    transform=transform,\n",
    "    split=SplitMetadata('split', 'test'),\n",
    ")"
   ]
  },
  {
   "cell_type": "code",
   "execution_count": null,
   "id": "61d51dab",
   "metadata": {},
   "outputs": [],
   "source": [
    "matcher = CosineSimilarity()\n",
    "\n",
    "#***\n",
    "similarity_backbone = matcher(query=extractor_backbone(query_backbone), \n",
    "                     database=extractor_backbone(database_backbone))"
   ]
  },
  {
   "cell_type": "code",
   "execution_count": 58,
   "id": "561230bb",
   "metadata": {},
   "outputs": [],
   "source": [
    "classifier = KnnClassifier(k=1)\n",
    "predictions_backbone = classifier(similarity_backbone['default'], labels=database_backbone.labels_string)"
   ]
  },
  {
   "cell_type": "code",
   "execution_count": 59,
   "id": "5e066d0e",
   "metadata": {},
   "outputs": [
    {
     "name": "stdout",
     "output_type": "stream",
     "text": [
      "backbone 0.9501312335958005\n"
     ]
    }
   ],
   "source": [
    "#***\n",
    "acc_backbone = sum(predictions_backbone == query_backbone.labels_string) / len(predictions_backbone)\n",
    "\n",
    "#***\n",
    "print('backbone', acc_backbone)\n",
    "results['backbone'] = acc_backbone"
   ]
  },
  {
   "cell_type": "markdown",
   "id": "207e2d1e",
   "metadata": {},
   "source": [
    "## maxim Inference"
   ]
  },
  {
   "cell_type": "code",
   "execution_count": 32,
   "id": "58966201",
   "metadata": {},
   "outputs": [
    {
     "name": "stderr",
     "output_type": "stream",
     "text": [
      "/var/folders/r7/hlvr4tcn43d2pztz8gqr8_sc0000gn/T/ipykernel_26575/1419427818.py:1: FutureWarning: You are using `torch.load` with `weights_only=False` (the current default value), which uses the default pickle module implicitly. It is possible to construct malicious pickle data which will execute arbitrary code during unpickling (See https://github.com/pytorch/pytorch/blob/main/SECURITY.md#untrusted-models for more details). In a future release, the default value for `weights_only` will be flipped to `True`. This limits the functions that could be executed during unpickling. Arbitrary objects will no longer be allowed to be loaded via this mode unless they are explicitly allowlisted by the user via `torch.serialization.add_safe_globals`. We recommend you start setting `weights_only=True` for any use case where you don't have full control of the loaded file. Please open an issue on GitHub for any issues related to this experimental feature.\n",
      "  model_maxim = torch.load(models_root/'md_maxim.pth', map_location='cpu')\n"
     ]
    }
   ],
   "source": [
    "model_maxim = torch.load(models_root/'md_maxim.pth', map_location='cpu')"
   ]
  },
  {
   "cell_type": "code",
   "execution_count": 33,
   "id": "304218ce",
   "metadata": {},
   "outputs": [],
   "source": [
    "extractor_maxim = DeepFeatures(model_maxim, device='cpu')"
   ]
  },
  {
   "cell_type": "code",
   "execution_count": 35,
   "id": "bdafb805",
   "metadata": {},
   "outputs": [],
   "source": [
    "# prepare dataset\n",
    "\n",
    "#***\n",
    "metadata_maxim = pd.read_csv(root_metadata/'FeralCatsAkl_maxim/metadata.csv', index_col=0)\n",
    "images_path = root_images/'FeralCatsAkl_maxim'\n",
    "\n",
    "#***\n",
    "database_maxim = WildlifeDataset(\n",
    "    metadata=metadata_maxim,\n",
    "    root=images_path,\n",
    "    transform=transform,\n",
    "    split=SplitMetadata('split', 'train'),\n",
    ")\n",
    "\n",
    "#***\n",
    "query_maxim = WildlifeDataset(\n",
    "    metadata=metadata_maxim,\n",
    "    root=images_path,\n",
    "    transform=transform,\n",
    "    split=SplitMetadata('split', 'test'),\n",
    ")"
   ]
  },
  {
   "cell_type": "code",
   "execution_count": null,
   "id": "efc5c1c3",
   "metadata": {},
   "outputs": [],
   "source": [
    "matcher = CosineSimilarity()\n",
    "\n",
    "#***\n",
    "similarity_maxim = matcher(query=extractor_maxim(query_maxim), \n",
    "                     database=extractor_maxim(database_maxim))"
   ]
  },
  {
   "cell_type": "code",
   "execution_count": 38,
   "id": "2d00d079",
   "metadata": {},
   "outputs": [],
   "source": [
    "classifier = KnnClassifier(k=1)\n",
    "predictions_maxim = classifier(similarity_maxim['default'], labels=database_maxim.labels_string)"
   ]
  },
  {
   "cell_type": "code",
   "execution_count": 40,
   "id": "6e14537e",
   "metadata": {},
   "outputs": [
    {
     "name": "stdout",
     "output_type": "stream",
     "text": [
      "FeralCatsAkl_maxim 0.9658792650918635\n"
     ]
    }
   ],
   "source": [
    "#***\n",
    "acc_maxim = sum(predictions_maxim == query_maxim.labels_string) / len(predictions_maxim)\n",
    "\n",
    "#***\n",
    "print('FeralCatsAkl_maxim', acc_maxim)\n",
    "results['FeralCatsAkl_maxim'] = acc_maxim"
   ]
  },
  {
   "cell_type": "markdown",
   "id": "50861039",
   "metadata": {},
   "source": [
    "## hidiff Inference"
   ]
  },
  {
   "cell_type": "code",
   "execution_count": 41,
   "id": "717b1f33",
   "metadata": {},
   "outputs": [
    {
     "name": "stderr",
     "output_type": "stream",
     "text": [
      "/var/folders/r7/hlvr4tcn43d2pztz8gqr8_sc0000gn/T/ipykernel_26575/3391541666.py:1: FutureWarning: You are using `torch.load` with `weights_only=False` (the current default value), which uses the default pickle module implicitly. It is possible to construct malicious pickle data which will execute arbitrary code during unpickling (See https://github.com/pytorch/pytorch/blob/main/SECURITY.md#untrusted-models for more details). In a future release, the default value for `weights_only` will be flipped to `True`. This limits the functions that could be executed during unpickling. Arbitrary objects will no longer be allowed to be loaded via this mode unless they are explicitly allowlisted by the user via `torch.serialization.add_safe_globals`. We recommend you start setting `weights_only=True` for any use case where you don't have full control of the loaded file. Please open an issue on GitHub for any issues related to this experimental feature.\n",
      "  model_hidiff = torch.load(models_root/'md_hidiff.pth', map_location='cpu')\n"
     ]
    }
   ],
   "source": [
    "model_hidiff = torch.load(models_root/'md_hidiff.pth', map_location='cpu')"
   ]
  },
  {
   "cell_type": "code",
   "execution_count": 42,
   "id": "22255aae",
   "metadata": {},
   "outputs": [],
   "source": [
    "extractor_hidiff = DeepFeatures(model_hidiff, device='cpu')"
   ]
  },
  {
   "cell_type": "code",
   "execution_count": 43,
   "id": "7fc68a03",
   "metadata": {},
   "outputs": [],
   "source": [
    "# prepare dataset\n",
    "\n",
    "#***\n",
    "metadata_hidiff = pd.read_csv(root_metadata/'FeralCatsAkl_HIDiff/metadata.csv', index_col=0)\n",
    "images_path = root_images/'FeralCatsAkl_HIDiff'\n",
    "\n",
    "#***\n",
    "database_hidiff = WildlifeDataset(\n",
    "    metadata=metadata_hidiff,\n",
    "    root=images_path,\n",
    "    transform=transform,\n",
    "    split=SplitMetadata('split', 'train'),\n",
    ")\n",
    "\n",
    "#***\n",
    "query_hidiff = WildlifeDataset(\n",
    "    metadata=metadata_hidiff,\n",
    "    root=images_path,\n",
    "    transform=transform,\n",
    "    split=SplitMetadata('split', 'test'),\n",
    ")"
   ]
  },
  {
   "cell_type": "code",
   "execution_count": null,
   "id": "8c8da4c8",
   "metadata": {},
   "outputs": [],
   "source": [
    "matcher = CosineSimilarity()\n",
    "\n",
    "#***\n",
    "similarity_hidiff = matcher(query=extractor_hidiff(query_hidiff), \n",
    "                     database=extractor_hidiff(database_hidiff))"
   ]
  },
  {
   "cell_type": "code",
   "execution_count": 45,
   "id": "d1943f24",
   "metadata": {},
   "outputs": [],
   "source": [
    "classifier = KnnClassifier(k=1)\n",
    "predictions_hidiff = classifier(similarity_hidiff['default'], labels=database_hidiff.labels_string)"
   ]
  },
  {
   "cell_type": "code",
   "execution_count": 46,
   "id": "b0e209ce",
   "metadata": {},
   "outputs": [
    {
     "name": "stdout",
     "output_type": "stream",
     "text": [
      "FeralCatsAkl_hidiff 0.9763779527559056\n"
     ]
    }
   ],
   "source": [
    "#***\n",
    "acc_hidiff = sum(predictions_hidiff == query_hidiff.labels_string) / len(predictions_hidiff)\n",
    "\n",
    "#***\n",
    "print('FeralCatsAkl_hidiff', acc_hidiff)\n",
    "results['FeralCatsAkl_hidiff'] = acc_hidiff"
   ]
  },
  {
   "cell_type": "markdown",
   "id": "2ed92186",
   "metadata": {},
   "source": [
    "## srmnet Inference"
   ]
  },
  {
   "cell_type": "code",
   "execution_count": 47,
   "id": "092497d2",
   "metadata": {},
   "outputs": [
    {
     "name": "stderr",
     "output_type": "stream",
     "text": [
      "/var/folders/r7/hlvr4tcn43d2pztz8gqr8_sc0000gn/T/ipykernel_26575/2772768114.py:1: FutureWarning: You are using `torch.load` with `weights_only=False` (the current default value), which uses the default pickle module implicitly. It is possible to construct malicious pickle data which will execute arbitrary code during unpickling (See https://github.com/pytorch/pytorch/blob/main/SECURITY.md#untrusted-models for more details). In a future release, the default value for `weights_only` will be flipped to `True`. This limits the functions that could be executed during unpickling. Arbitrary objects will no longer be allowed to be loaded via this mode unless they are explicitly allowlisted by the user via `torch.serialization.add_safe_globals`. We recommend you start setting `weights_only=True` for any use case where you don't have full control of the loaded file. Please open an issue on GitHub for any issues related to this experimental feature.\n",
      "  model_srmnet = torch.load(models_root/'md_srmnet.pth', map_location='cpu')\n"
     ]
    }
   ],
   "source": [
    "model_srmnet = torch.load(models_root/'md_srmnet.pth', map_location='cpu')"
   ]
  },
  {
   "cell_type": "code",
   "execution_count": 48,
   "id": "7ea86e88",
   "metadata": {},
   "outputs": [],
   "source": [
    "extractor_srmnet = DeepFeatures(model_srmnet, device='cpu')"
   ]
  },
  {
   "cell_type": "code",
   "execution_count": 49,
   "id": "83bde27c",
   "metadata": {},
   "outputs": [],
   "source": [
    "# prepare dataset\n",
    "\n",
    "#***\n",
    "metadata_srmnet = pd.read_csv(root_metadata/'FeralCatsAkl_SRMNet/metadata.csv', index_col=0)\n",
    "images_path = root_images/'FeralCatsAkl_SRMNet'\n",
    "\n",
    "#***\n",
    "database_srmnet = WildlifeDataset(\n",
    "    metadata=metadata_srmnet,\n",
    "    root=images_path,\n",
    "    transform=transform,\n",
    "    split=SplitMetadata('split', 'train'),\n",
    ")\n",
    "\n",
    "#***\n",
    "query_srmnet = WildlifeDataset(\n",
    "    metadata=metadata_srmnet,\n",
    "    root=images_path,\n",
    "    transform=transform,\n",
    "    split=SplitMetadata('split', 'test'),\n",
    ")"
   ]
  },
  {
   "cell_type": "code",
   "execution_count": null,
   "id": "0929f7a4",
   "metadata": {},
   "outputs": [],
   "source": [
    "matcher = CosineSimilarity()\n",
    "\n",
    "#***\n",
    "similarity_srmnet = matcher(query=extractor_srmnet(query_srmnet), \n",
    "                     database=extractor_srmnet(database_srmnet))"
   ]
  },
  {
   "cell_type": "code",
   "execution_count": 51,
   "id": "bd5fbcf3",
   "metadata": {},
   "outputs": [],
   "source": [
    "classifier = KnnClassifier(k=1)\n",
    "predictions_srmnet = classifier(similarity_srmnet['default'], labels=database_srmnet.labels_string)"
   ]
  },
  {
   "cell_type": "code",
   "execution_count": 52,
   "id": "e117adb6",
   "metadata": {},
   "outputs": [
    {
     "name": "stdout",
     "output_type": "stream",
     "text": [
      "FeralCatsAkl_srmnet 0.9553805774278216\n"
     ]
    }
   ],
   "source": [
    "#***\n",
    "acc_srmnet = sum(predictions_srmnet == query_srmnet.labels_string) / len(predictions_srmnet)\n",
    "\n",
    "#***\n",
    "print('FeralCatsAkl_srmnet', acc_srmnet)\n",
    "results['FeralCatsAkl_srmnet'] = acc_srmnet"
   ]
  },
  {
   "cell_type": "markdown",
   "id": "3eb126cf",
   "metadata": {},
   "source": [
    "## Results"
   ]
  },
  {
   "cell_type": "code",
   "execution_count": 60,
   "id": "30f5002c",
   "metadata": {},
   "outputs": [],
   "source": [
    "pd.Series(results).to_csv('results/FCA_MegaDescriptor-S-224.csv')"
   ]
  },
  {
   "cell_type": "markdown",
   "id": "7261062c",
   "metadata": {},
   "source": [
    "## Reference cells"
   ]
  },
  {
   "cell_type": "code",
   "execution_count": null,
   "id": "9e400a91",
   "metadata": {},
   "outputs": [],
   "source": [
    "# model = create_model(\"hf-hub:BVRA/MegaDescriptor-S-224\", pretrained=True)\n",
    "# model = timm.create_model('swin_small_patch4_window7_224', num_classes=5, pretrained=True)\n",
    "# extractor = DeepFeatures(model, device='cuda')\n",
    "\n",
    "# root_images = '../data/images/size-256'\n",
    "# root_metadata = '../data/metadata/datasets'"
   ]
  },
  {
   "cell_type": "code",
   "execution_count": null,
   "id": "e4381543",
   "metadata": {},
   "outputs": [],
   "source": [
    "results = {}\n",
    "for name in datasets:\n",
    "    metadata = pd.read_csv(f'{root_metadata}/{name}/metadata.csv', index_col=0)\n",
    "\n",
    "    transform = T.Compose([\n",
    "        T.Resize(size=(224, 224)),\n",
    "        T.ToTensor(),\n",
    "        T.Normalize(mean=(0.485, 0.456, 0.406), std=(0.229, 0.224, 0.225)),\n",
    "    ])\n",
    "\n",
    "    database = WildlifeDataset(\n",
    "        metadata=metadata,\n",
    "        root=f'{root_images}/{name}/',\n",
    "        transform=transform,\n",
    "        split=SplitMetadata('split', 'train'),\n",
    "    )\n",
    "\n",
    "    query = WildlifeDataset(\n",
    "        metadata=metadata,\n",
    "        root=f'{root_images}/{name}/',\n",
    "        transform=transform,\n",
    "        split=SplitMetadata('split', 'test'),\n",
    "    )\n",
    "\n",
    "    matcher = CosineSimilarity()\n",
    "    similarity = matcher(query=extractor(query), database=extractor(database))\n",
    "    preds = KnnClassifier(k=1, database_labels=database.labels_string)(similarity['cosine'])\n",
    "    \n",
    "    acc = sum(preds == query.labels_string) / len(preds)\n",
    "    print(name, acc)\n",
    "    results[name] = acc\n",
    "\n",
    "\n",
    "pd.Series(results).to_csv('results/MegaDescriptor-S-224.csv')"
   ]
  },
  {
   "cell_type": "code",
   "execution_count": null,
   "id": "af5b20df",
   "metadata": {},
   "outputs": [],
   "source": []
  }
 ],
 "metadata": {
  "kernelspec": {
   "display_name": "compsci764",
   "language": "python",
   "name": "python3"
  },
  "language_info": {
   "codemirror_mode": {
    "name": "ipython",
    "version": 3
   },
   "file_extension": ".py",
   "mimetype": "text/x-python",
   "name": "python",
   "nbconvert_exporter": "python",
   "pygments_lexer": "ipython3",
   "version": "3.8.20"
  }
 },
 "nbformat": 4,
 "nbformat_minor": 5
}
